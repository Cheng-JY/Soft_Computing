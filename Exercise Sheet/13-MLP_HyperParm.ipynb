{
 "cells": [
  {
   "cell_type": "code",
   "execution_count": 1,
   "metadata": {},
   "outputs": [],
   "source": [
    "import numpy as np\n",
    "import matplotlib.pyplot as plt\n",
    "import torch\n",
    "import torch.nn as nn\n",
    "import torchvision.datasets as dsets\n",
    "import torchvision.transforms as transforms\n",
    "from torch.autograd import Variable\n",
    "from abc import ABC, abstractmethod "
   ]
  },
  {
   "cell_type": "markdown",
   "metadata": {},
   "source": [
    "# MNIST dataset with Pytorch"
   ]
  },
  {
   "cell_type": "markdown",
   "metadata": {},
   "source": [
    "For the first application of a Neural Network using the torch.nn [torch.nn](https://pytorch.org/docs/stable/nn.html) class of PyTorch, we want to use the famous MNIST dataset. This dataset contains a large number of images of handwritten digits. The images are formatted in 28×28 pixels with a value between 0 and 255 for each pixel.\n",
    "\n",
    "We can get it via the Torchvision datasets and format it into a tensor."
   ]
  },
  {
   "cell_type": "code",
   "execution_count": 2,
   "metadata": {},
   "outputs": [
    {
     "name": "stdout",
     "output_type": "stream",
     "text": [
      "Number of samples in trainset :  1000\n",
      "Number of samples in testset : 500\n"
     ]
    }
   ],
   "source": [
    "# create train and test data set as Tensors\n",
    "train_dataset = dsets.MNIST(root = './data',train = True,transform = transforms.ToTensor(),download = True)\n",
    "train_dataset, _ = torch.utils.data.random_split(train_dataset, [1000,59000])\n",
    "test_dataset = dsets.MNIST(root = './data',train = False ,transform = transforms.ToTensor())\n",
    "test_dataset, _ = torch.utils.data.random_split(test_dataset, [500,9500]) # already shaked\n",
    "print(\"Number of samples in trainset : \", len(train_dataset))\n",
    "print(\"Number of samples in testset :\", len(test_dataset))"
   ]
  },
  {
   "cell_type": "code",
   "execution_count": 3,
   "metadata": {},
   "outputs": [
    {
     "data": {
      "image/png": "[encoded data removed]",
      "text/plain": [
       "<Figure size 640x480 with 1 Axes>"
      ]
     },
     "metadata": {},
     "output_type": "display_data"
    }
   ],
   "source": [
    "# example image\n",
    "sample_image = torch.Tensor.numpy(train_dataset[0][0][0])\n",
    "plt.imshow(np.reshape(sample_image, [28,28]),cmap ='gray')\n",
    "plt.show()"
   ]
  },
  {
   "cell_type": "markdown",
   "metadata": {},
   "source": [
    "### DataLoader"
   ]
  },
  {
   "cell_type": "code",
   "execution_count": 26,
   "metadata": {},
   "outputs": [],
   "source": [
    "batch_size = 64\n",
    "\n",
    "# load dataset using data loader\n",
    "train_loader = torch.utils.data.DataLoader(dataset = train_dataset,batch_size = batch_size, shuffle = False)\n",
    "test_loader = torch.utils.data.DataLoader(dataset = test_dataset, batch_size = batch_size, shuffle = False)"
   ]
  },
  {
   "cell_type": "markdown",
   "metadata": {},
   "source": [
    "### Model Hyper-Parameters"
   ]
  },
  {
   "cell_type": "markdown",
   "metadata": {},
   "source": [
    " In the next step, we need to set the parameters of our NN. The goal is to find appropriate values for \n",
    " * input size\n",
    " * hidden neurons \n",
    " * number of possible classes (outputs)\n",
    " * learning rate for the optimizer\n",
    " * number of epochs to train your net\n",
    " * the batch size of the training data"
   ]
  },
  {
   "cell_type": "code",
   "execution_count": 5,
   "metadata": {},
   "outputs": [],
   "source": [
    "# define hyperparameters of NN\n",
    "input_size = 784 \n",
    "layer_1 = 256\n",
    "layer_2 = 128\n",
    "layer_3 = 64\n",
    "num_classes = 10\n",
    "num_epochs =50\n",
    "learning_rate = 0.0015"
   ]
  },
  {
   "cell_type": "markdown",
   "metadata": {},
   "source": [
    ">Also, use the *cuda*-device to speed up the training process."
   ]
  },
  {
   "cell_type": "code",
   "execution_count": 6,
   "metadata": {},
   "outputs": [
    {
     "name": "stdout",
     "output_type": "stream",
     "text": [
      "cpu\n"
     ]
    }
   ],
   "source": [
    "if torch.cuda.is_available():\n",
    "    device =  torch.device(\"cuda\")\n",
    "else:\n",
    "    device = torch.device(\"cpu\")\n",
    "print(device)"
   ]
  },
  {
   "cell_type": "markdown",
   "metadata": {},
   "source": [
    "## The NN class of Pytorch\n",
    "\n",
    "Now we want to use the [nn.Module ](https://pytorch.org/docs/stable/generated/torch.nn.Module.html#torch.nn.Module) of PyTorch and see the differences between some activation functions. To achieve this, you have to create a basic net class from which you can inherit.  This class should also contain a <br>function to examine the test's accuracy and train data to evaluate the training process.\n",
    "\n",
    "\n",
    "After that, create NNs that inherits from your BaseNet class and use the following different activation functions:\n",
    "\n",
    " * Linear without activation functions\n",
    " * Tanh\n",
    " * Sigmoid\n",
    " * ReLU\n",
    " \n",
    "Create for each activation function a separate NN!"
   ]
  },
  {
   "cell_type": "code",
   "execution_count": 7,
   "metadata": {},
   "outputs": [],
   "source": [
    "class BaseNet(nn.Module):\n",
    "    def __init__(self):\n",
    "        super().__init__()\n",
    "        self.layer_input = nn.Linear(784,256)\n",
    "        self.layer_hidden_one = nn.Linear(256,128)\n",
    "        self.layer_hidden_two = nn.Linear(128,64)\n",
    "        self.layer_output = nn.Linear(64,10)\n",
    "    @abstractmethod\n",
    "    def forward(self,x):\n",
    "        pass"
   ]
  },
  {
   "cell_type": "code",
   "execution_count": 8,
   "metadata": {},
   "outputs": [],
   "source": [
    "class NetLinear(BaseNet):\n",
    "    def forward (self, x):\n",
    "        out = self.layer_input(x)\n",
    "        out = self.layer_hidden_one(out)\n",
    "        out = self.layer_hidden_two(out)\n",
    "        out = self.layer_output(out)\n",
    "        return out"
   ]
  },
  {
   "cell_type": "code",
   "execution_count": 9,
   "metadata": {},
   "outputs": [],
   "source": [
    "class NetTanh(BaseNet):\n",
    "    def __init__(self):\n",
    "        super().__init__()\n",
    "        self.tanh = nn.Tanh()\n",
    "    def forward (self, x):\n",
    "        out = self.tanh(self.layer_input(x))\n",
    "        out = self.tanh(self.layer_hidden_one(out))\n",
    "        out = self.tanh(self.layer_hidden_two(out))\n",
    "        out = self.layer_output(out) # output layer die Output scalieren und nur für die addition der voerherigen Layer zuständig und keinen nächsten aktivieren sollen\n",
    "        return out"
   ]
  },
  {
   "cell_type": "code",
   "execution_count": 10,
   "metadata": {},
   "outputs": [],
   "source": [
    "class NetSigmoid(BaseNet):\n",
    "    def __init__(self):\n",
    "        super().__init__()\n",
    "        self.sigmoid = nn.Sigmoid()\n",
    "    def forward (self, x):\n",
    "        out = self.sigmoid(self.layer_input(x))\n",
    "        out = self.sigmoid(self.layer_hidden_one(out))\n",
    "        out = self.sigmoid(self.layer_hidden_two(out))\n",
    "        out = self.layer_output(out)\n",
    "        return out"
   ]
  },
  {
   "cell_type": "code",
   "execution_count": 11,
   "metadata": {},
   "outputs": [],
   "source": [
    "class NetReLu(BaseNet):\n",
    "    def __init__(self):\n",
    "        super().__init__()\n",
    "        self.relu = nn.ReLU()\n",
    "    def forward (self, x):\n",
    "        out = self.relu(self.layer_input(x))\n",
    "        out = self.relu(self.layer_hidden_one(out))\n",
    "        out = self.relu(self.layer_hidden_two(out))\n",
    "        out = self.layer_output(out)\n",
    "        return out"
   ]
  },
  {
   "cell_type": "code",
   "execution_count": 12,
   "metadata": {},
   "outputs": [],
   "source": [
    "x_, y_ = next(iter(train_loader))"
   ]
  },
  {
   "cell_type": "code",
   "execution_count": 13,
   "metadata": {},
   "outputs": [
    {
     "data": {
      "text/plain": [
       "tensor([[-0.0964, -0.0713,  0.1039, -0.0661,  0.0657,  0.0827,  0.0333, -0.0603,\n",
       "          0.0957,  0.0652],\n",
       "        [-0.0932, -0.0551,  0.0850, -0.0599,  0.0895,  0.0685,  0.0296, -0.0514,\n",
       "          0.0799,  0.0305],\n",
       "        [-0.1019, -0.0087,  0.1393, -0.0833,  0.0827,  0.0873,  0.0386, -0.0658,\n",
       "          0.0803,  0.0187],\n",
       "        [-0.1483, -0.0333,  0.1430, -0.0144,  0.1169,  0.1128,  0.0155, -0.0912,\n",
       "          0.0537,  0.0692],\n",
       "        [-0.1628, -0.0592,  0.1016, -0.0908,  0.0358,  0.1237,  0.0672, -0.0769,\n",
       "          0.0305,  0.0572],\n",
       "        [-0.1512, -0.0816,  0.0809, -0.1135,  0.0760,  0.0575,  0.0323, -0.0264,\n",
       "          0.0774,  0.0487],\n",
       "        [-0.0901, -0.0569,  0.1157, -0.0491,  0.0823,  0.1038, -0.0069, -0.1154,\n",
       "          0.0899,  0.0375],\n",
       "        [-0.1151, -0.0570,  0.0795, -0.0590,  0.0949,  0.0889,  0.0330, -0.0282,\n",
       "          0.0954,  0.0279],\n",
       "        [-0.1711, -0.0177,  0.0982, -0.0343,  0.0650,  0.0624,  0.0133, -0.0831,\n",
       "          0.1091,  0.0761],\n",
       "        [-0.1069, -0.0426,  0.0928, -0.0646,  0.0786,  0.0716,  0.0473, -0.0897,\n",
       "          0.0714,  0.0488],\n",
       "        [-0.1186, -0.0476,  0.0860, -0.0521,  0.1133,  0.0646, -0.0051,  0.0057,\n",
       "          0.0494,  0.0631],\n",
       "        [-0.0878, -0.0752,  0.1424, -0.0442,  0.1258,  0.1044,  0.0112, -0.0716,\n",
       "          0.0714,  0.0279],\n",
       "        [-0.2392, -0.0395,  0.1188, -0.0052,  0.0896,  0.1459, -0.0144, -0.1107,\n",
       "          0.0624,  0.0973],\n",
       "        [-0.1212, -0.0686,  0.1249, -0.0141,  0.0831,  0.1084,  0.0628, -0.1008,\n",
       "          0.0603,  0.0642],\n",
       "        [-0.1257, -0.0955,  0.0683, -0.0544,  0.0814,  0.0764,  0.0147, -0.0461,\n",
       "          0.0797,  0.0778],\n",
       "        [-0.1714, -0.1078,  0.1342, -0.0696,  0.0915,  0.1243,  0.0029, -0.0515,\n",
       "          0.0843,  0.0729]], grad_fn=<AddmmBackward0>)"
      ]
     },
     "execution_count": 13,
     "metadata": {},
     "output_type": "execute_result"
    }
   ],
   "source": [
    "netLinear = NetLinear()\n",
    "outLinear = netLinear(x_.view(-1, 28*28))\n",
    "outLinear"
   ]
  },
  {
   "cell_type": "code",
   "execution_count": 14,
   "metadata": {},
   "outputs": [
    {
     "data": {
      "text/plain": [
       "torch.Size([16, 10])"
      ]
     },
     "execution_count": 14,
     "metadata": {},
     "output_type": "execute_result"
    }
   ],
   "source": [
    "netTanh = NetTanh()\n",
    "outTanh = netTanh(x_.view(-1, 28*28))\n",
    "outTanh.shape"
   ]
  },
  {
   "cell_type": "code",
   "execution_count": 15,
   "metadata": {},
   "outputs": [
    {
     "data": {
      "text/plain": [
       "torch.Size([16, 10])"
      ]
     },
     "execution_count": 15,
     "metadata": {},
     "output_type": "execute_result"
    }
   ],
   "source": [
    "netSigmoid = NetSigmoid()\n",
    "outSigmoid = netSigmoid(x_.view(-1, 28*28))\n",
    "outSigmoid.shape"
   ]
  },
  {
   "cell_type": "code",
   "execution_count": 16,
   "metadata": {},
   "outputs": [
    {
     "data": {
      "text/plain": [
       "torch.Size([16, 10])"
      ]
     },
     "execution_count": 16,
     "metadata": {},
     "output_type": "execute_result"
    }
   ],
   "source": [
    "netReLu = NetReLu()\n",
    "outReLu = netReLu(x_.view(-1, 28*28))\n",
    "outReLu.shape"
   ]
  },
  {
   "cell_type": "markdown",
   "metadata": {},
   "source": [
    "If you want to train your NN you have to initialize a criterion for the loss. In this case please use the [cross-entropy](https://pytorch.org/docs/stable/generated/torch.nn.CrossEntropyLoss.html) loss function."
   ]
  },
  {
   "cell_type": "code",
   "execution_count": 17,
   "metadata": {},
   "outputs": [],
   "source": [
    "# loss function\n",
    "\n",
    "criterion = nn.CrossEntropyLoss()"
   ]
  },
  {
   "cell_type": "markdown",
   "metadata": {},
   "source": [
    "Write a function that calculates the loss and accuracy of the test dataset!"
   ]
  },
  {
   "cell_type": "code",
   "execution_count": 18,
   "metadata": {},
   "outputs": [],
   "source": [
    "def test_function(net):\n",
    "    loss_test = 0\n",
    "    correct = 0\n",
    "    total = 0\n",
    "    \n",
    "    for i, (images, labels) in enumerate(test_loader):\n",
    "        images = images.view(-1, 28*28)\n",
    "        outputs = net(images)\n",
    "        loss = criterion(outputs, labels)\n",
    "        \n",
    "        loss_test += loss.item()\n",
    "        _, predicted = torch.max(outputs.data, 1)\n",
    "        \n",
    "        total += labels.size(0)\n",
    "        correct += (predicted == labels).sum().item()\n",
    "        \n",
    "    loss = loss_test/len(test_loader)\n",
    "    accuracy = 100 * correct/ total\n",
    "    \n",
    "    return loss, accuracy"
   ]
  },
  {
   "cell_type": "code",
   "execution_count": 19,
   "metadata": {},
   "outputs": [
    {
     "ename": "SyntaxError",
     "evalue": "incomplete input (3864340575.py, line 2)",
     "output_type": "error",
     "traceback": [
      "\u001b[0;36m  Cell \u001b[0;32mIn[19], line 2\u001b[0;36m\u001b[0m\n\u001b[0;31m    # TODO\u001b[0m\n\u001b[0m          ^\u001b[0m\n\u001b[0;31mSyntaxError\u001b[0m\u001b[0;31m:\u001b[0m incomplete input\n"
     ]
    }
   ],
   "source": [
    "def get_accuracy(net):    \n",
    "    # TODO"
   ]
  },
  {
   "cell_type": "code",
   "execution_count": 26,
   "metadata": {},
   "outputs": [
    {
     "name": "stdout",
     "output_type": "stream",
     "text": [
      "torch.float32\n",
      "torch.float32\n",
      "torch.float32\n",
      "torch.float32\n",
      "torch.float32\n",
      "torch.float32\n",
      "torch.float32\n",
      "torch.float32\n",
      "torch.float32\n",
      "torch.float32\n",
      "torch.float32\n",
      "torch.float32\n",
      "torch.float32\n",
      "torch.float32\n",
      "torch.float32\n",
      "torch.float32\n",
      "torch.float32\n",
      "torch.float32\n",
      "torch.float32\n",
      "torch.float32\n",
      "torch.float32\n",
      "torch.float32\n",
      "torch.float32\n",
      "torch.float32\n",
      "torch.float32\n",
      "torch.float32\n",
      "torch.float32\n",
      "torch.float32\n",
      "torch.float32\n",
      "torch.float32\n",
      "torch.float32\n",
      "torch.float32\n"
     ]
    },
    {
     "data": {
      "text/plain": [
       "2.3005805984139442"
      ]
     },
     "execution_count": 26,
     "metadata": {},
     "output_type": "execute_result"
    }
   ],
   "source": [
    "net = NetLinear()\n",
    "loss, accuracy = test_function(net)\n",
    "loss"
   ]
  },
  {
   "cell_type": "markdown",
   "metadata": {},
   "source": [
    "The following class will allow you to visualize the learning process. Just use the append functions of this class to add your evaluated values for the train's accuracy and test set to the final plot. The x_axis should be an accordingly scaled time axis. Run the `plot()` function after training to show your results."
   ]
  },
  {
   "cell_type": "code",
   "execution_count": 20,
   "metadata": {},
   "outputs": [],
   "source": [
    "%matplotlib inline \n",
    "class Plot:\n",
    "    def __init__(self, initial_test):\n",
    "        self.loss_train = [initial_test]\n",
    "        self.loss_test = [initial_test]\n",
    "        self.x_axis = [0]\n",
    "        \n",
    "    def append_loss_train(self, loss):\n",
    "        self.loss_train.append(loss)\n",
    "        \n",
    "    def append_loss_test(self, loss):\n",
    "        self.loss_test.append(loss)\n",
    "    \n",
    "    def append_x_axis(self, x_axis):\n",
    "        self.x_axis.append(x_axis)\n",
    "        \n",
    "    def plot(self): \n",
    "        limit = max(max(self.loss_train), max(self.loss_test))\n",
    "        fig, ax1 = plt.subplots()\n",
    "        color = 'tab:red'\n",
    "        ax1.set_xlabel('epochs')\n",
    "        ax1.set_ylabel('Loss train', color=color)\n",
    "        ax1.set_ylim([0,limit])\n",
    "        ax1.plot(self.x_axis, self.loss_train, color=color)\n",
    "        ax1.tick_params(axis='y', labelcolor=color)\n",
    "\n",
    "\n",
    "        ax2 = ax1.twinx()\n",
    "\n",
    "        color = 'tab:blue'\n",
    "        ax2.set_ylabel('Loss test', color=color)\n",
    "        ax2.plot(self.x_axis, self.loss_test, color=color)\n",
    "        ax2.tick_params(axis='y', labelcolor=color)\n",
    "        ax2.set_ylim([0,limit])\n",
    "\n",
    "        \n",
    "        fig.tight_layout()\n",
    "        plt.show()"
   ]
  },
  {
   "cell_type": "markdown",
   "metadata": {},
   "source": [
    "Now let's write a function to train a NN. PyTorch has different [optimizers](https://pytorch.org/docs/stable/optim.html). An often used one is the ADAM algorithm, so use this to train your NNs.<br>\n",
    "If it is possiable, put the net, images, and labels on the GPU! <br> "
   ]
  },
  {
   "cell_type": "code",
   "execution_count": 30,
   "metadata": {},
   "outputs": [],
   "source": [
    "def train_net(net):\n",
    "    \n",
    "    optimizer = torch.optim.Adam(net.parameters(), lr=learning_rate)\n",
    "    plot = Plot(test_function(net)[0])\n",
    "    \n",
    "    loss_epoch = []\n",
    "    accuracy_epoch = []\n",
    "    \n",
    "    for epoch in range(num_epochs):\n",
    "\n",
    "        loss_train = 0\n",
    "        correct = 0\n",
    "        total = 0\n",
    "\n",
    "\n",
    "        for i, (images, labels) in enumerate(train_loader):\n",
    "            images = images.view(-1, 28*28)\n",
    "            outputs = net(images)\n",
    "            loss = criterion(outputs, labels)\n",
    "\n",
    "            optimizer.zero_grad()\n",
    "            loss.backward()\n",
    "            optimizer.step()\n",
    "\n",
    "            loss_train += loss.item()\n",
    "            _, predicted = torch.max(outputs.data, 1)\n",
    "\n",
    "            total += labels.size(0)\n",
    "            correct += (predicted == labels).sum().item()\n",
    "            \n",
    "        loss_test, accuracy = test_function(net)\n",
    "        loss_train = loss_train / len(train_loader)\n",
    "            \n",
    "        plot.append_loss_test(loss_test)\n",
    "        plot.append_loss_train(loss_train)\n",
    "        plot.append_x_axis(epoch + (i+1)/len(train_dataset)//batch_size)\n",
    "\n",
    "        loss = loss_train/len(train_loader)\n",
    "        accuracy = 100 * correct/ total\n",
    "        \n",
    "        loss_epoch.append(loss)\n",
    "        accuracy_epoch.append(accuracy)\n",
    "        \n",
    "        if (epoch + 1) % 5 == 0:\n",
    "            print('Epoch [%d/%d], loss train: %.8f, loss test: %.8f, accuracy test: %.2f' %(epoch+1, num_epochs, loss_train, loss_test, accuracy))\n",
    "    \n",
    "    plot.plot()\n",
    "    \n",
    "    return loss_epoch, accuracy_epoch"
   ]
  },
  {
   "cell_type": "code",
   "execution_count": 31,
   "metadata": {},
   "outputs": [
    {
     "name": "stdout",
     "output_type": "stream",
     "text": [
      "Epoch [5/50], loss train: 0.34103843, loss test: 0.46177269, accuracy test: 90.30\n",
      "Epoch [10/50], loss train: 0.17420411, loss test: 0.42720275, accuracy test: 94.40\n",
      "Epoch [15/50], loss train: 0.05535306, loss test: 0.44764825, accuracy test: 98.60\n",
      "Epoch [20/50], loss train: 0.01871890, loss test: 0.40643157, accuracy test: 99.60\n",
      "Epoch [25/50], loss train: 0.00218458, loss test: 0.44136608, accuracy test: 100.00\n",
      "Epoch [30/50], loss train: 0.00132362, loss test: 0.46590922, accuracy test: 100.00\n",
      "Epoch [35/50], loss train: 0.00093310, loss test: 0.48358880, accuracy test: 100.00\n",
      "Epoch [40/50], loss train: 0.00070265, loss test: 0.49835585, accuracy test: 100.00\n",
      "Epoch [45/50], loss train: 0.00055113, loss test: 0.51137846, accuracy test: 100.00\n",
      "Epoch [50/50], loss train: 0.00044558, loss test: 0.52310117, accuracy test: 100.00\n"
     ]
    },
    {
     "data": {
      "image/png": "[encoded data removed]",
      "text/plain": [
       "<Figure size 640x480 with 2 Axes>"
      ]
     },
     "metadata": {},
     "output_type": "display_data"
    },
    {
     "data": {
      "text/plain": [
       "([0.12565242126584053,\n",
       "  0.06209157407283783,\n",
       "  0.038876563659869134,\n",
       "  0.028169126948341727,\n",
       "  0.0213149021146819,\n",
       "  0.017314813449047506,\n",
       "  0.015286235749954358,\n",
       "  0.014269670064095408,\n",
       "  0.013376915216213092,\n",
       "  0.010887756739975885,\n",
       "  0.006395212156348862,\n",
       "  0.005363788448448759,\n",
       "  0.004382536164484918,\n",
       "  0.003725727707205806,\n",
       "  0.003459566280071158,\n",
       "  0.003245365180191584,\n",
       "  0.0037057061163068283,\n",
       "  0.0035503009530657437,\n",
       "  0.0019149523322994355,\n",
       "  0.001169931459116924,\n",
       "  0.0006959588808967965,\n",
       "  0.00043418148288765224,\n",
       "  0.00021664083169525838,\n",
       "  0.00016389452252951742,\n",
       "  0.00013653599125973415,\n",
       "  0.00012039986199852137,\n",
       "  0.00010804365570038499,\n",
       "  9.808773620534339e-05,\n",
       "  8.983290217656759e-05,\n",
       "  8.272628110717051e-05,\n",
       "  7.656674893041782e-05,\n",
       "  7.119191570836847e-05,\n",
       "  6.642546964030771e-05,\n",
       "  6.21586152647069e-05,\n",
       "  5.831847943227331e-05,\n",
       "  5.487449141128309e-05,\n",
       "  5.1739811965489935e-05,\n",
       "  4.890382751909783e-05,\n",
       "  4.6292678689496825e-05,\n",
       "  4.391580682749918e-05,\n",
       "  4.171010800746444e-05,\n",
       "  3.968105920648668e-05,\n",
       "  3.780215126880648e-05,\n",
       "  3.606277664403024e-05,\n",
       "  3.4445338997102226e-05,\n",
       "  3.293997013997796e-05,\n",
       "  3.154976656105646e-05,\n",
       "  3.023299973392568e-05,\n",
       "  2.900340643918753e-05,\n",
       "  2.7848736522173567e-05],\n",
       " [35.5,\n",
       "  71.3,\n",
       "  81.4,\n",
       "  86.8,\n",
       "  90.3,\n",
       "  91.9,\n",
       "  93.2,\n",
       "  93.1,\n",
       "  93.7,\n",
       "  94.4,\n",
       "  97.3,\n",
       "  97.8,\n",
       "  98.3,\n",
       "  98.6,\n",
       "  98.6,\n",
       "  98.7,\n",
       "  98.4,\n",
       "  98.4,\n",
       "  99.2,\n",
       "  99.6,\n",
       "  99.8,\n",
       "  100.0,\n",
       "  100.0,\n",
       "  100.0,\n",
       "  100.0,\n",
       "  100.0,\n",
       "  100.0,\n",
       "  100.0,\n",
       "  100.0,\n",
       "  100.0,\n",
       "  100.0,\n",
       "  100.0,\n",
       "  100.0,\n",
       "  100.0,\n",
       "  100.0,\n",
       "  100.0,\n",
       "  100.0,\n",
       "  100.0,\n",
       "  100.0,\n",
       "  100.0,\n",
       "  100.0,\n",
       "  100.0,\n",
       "  100.0,\n",
       "  100.0,\n",
       "  100.0,\n",
       "  100.0,\n",
       "  100.0,\n",
       "  100.0,\n",
       "  100.0,\n",
       "  100.0])"
      ]
     },
     "execution_count": 31,
     "metadata": {},
     "output_type": "execute_result"
    }
   ],
   "source": [
    "net = NetReLu()\n",
    "train_net(net)"
   ]
  },
  {
   "cell_type": "markdown",
   "metadata": {},
   "source": [
    "Well done! You have now seen how different nets with different activation functions learn. And the longer a NN learns, the better it does its job. But when NN learns too long, **overfitting** becomes an issue. A net *overfits* when it learns the particular examples from `train_dataset` and no longer in general. But there is a way to avoid it.\n",
    "### Regularization\n",
    "We will take a look at four types of regularization:\n",
    "* Weight decay\n",
    "* L1 regularization\n",
    "* Max norm constraints\n",
    "* Dropout\n",
    "\n",
    "All work differently and are suitable for various tasks. Let's take a closer look."
   ]
  },
  {
   "cell_type": "markdown",
   "metadata": {},
   "source": [
    "#### Weight decay (L2 Regularization)\n",
    "\n",
    "The idea of L2 regularization is to add a *regularization term* to the cost function, so that small weights will be preferred. The cost function looks like this:\n",
    "$ C = C_0 + \\frac{\\lambda}{2n}\n",
    "\\sum_w w^2,$\n",
    "where $C_0$ stands for the original cost function, $\\lambda$ for a regularization parameter, $w$ for weights in the NN, and $n$ for its size. (n is the size for nn, layerwise)\n",
    "\n",
    "Now you should implement this regularization type. Write your implementation of L2. Don't use the implementation from PyTorch. Use it to improve the accuracy of your linear NN."
   ]
  },
  {
   "cell_type": "code",
   "execution_count": 42,
   "metadata": {},
   "outputs": [],
   "source": [
    "# class\n",
    "### SOLUTION ###\n",
    "class NetTanh_L2(NetReLu):\n",
    "    def l2_weights(self):\n",
    "        l2_weights = torch.sum(torch.pow(self.layer_input.weight.data, 2))\n",
    "        l2_weights += torch.sum(torch.pow(self.layer_hidden_one.weight.data, 2))\n",
    "        l2_weights += torch.sum(torch.pow(self.layer_hidden_two.weight.data, 2))\n",
    "        l2_weights += torch.sum(torch.pow(self.layer_output.weight.data, 2))\n",
    "        return l2_weights\n",
    "### ENDSOLUTION ###"
   ]
  },
  {
   "cell_type": "code",
   "execution_count": 49,
   "metadata": {},
   "outputs": [
    {
     "name": "stdout",
     "output_type": "stream",
     "text": [
      "Epoch [5/100], Step[16/15],loss train: 0.40861010 , loss test: 0.53262325 , accuracy : 81.40\n",
      "Epoch [10/100], Step[16/15],loss train: 0.18053548 , loss test: 0.44108426 , accuracy : 86.60\n",
      "Epoch [15/100], Step[16/15],loss train: 0.08750894 , loss test: 0.50457110 , accuracy : 83.80\n",
      "Epoch [20/100], Step[16/15],loss train: 0.10324030 , loss test: 0.45806471 , accuracy : 89.40\n",
      "Epoch [25/100], Step[16/15],loss train: 0.00999566 , loss test: 0.38201582 , accuracy : 89.80\n",
      "Epoch [30/100], Step[16/15],loss train: 0.00342611 , loss test: 0.40927774 , accuracy : 90.80\n",
      "Epoch [35/100], Step[16/15],loss train: 0.00206847 , loss test: 0.43578192 , accuracy : 91.40\n",
      "Epoch [40/100], Step[16/15],loss train: 0.00143244 , loss test: 0.45594975 , accuracy : 91.20\n",
      "Epoch [45/100], Step[16/15],loss train: 0.00106130 , loss test: 0.47334558 , accuracy : 91.20\n",
      "Epoch [50/100], Step[16/15],loss train: 0.00082141 , loss test: 0.48947906 , accuracy : 91.00\n",
      "Epoch [55/100], Step[16/15],loss train: 0.00065609 , loss test: 0.50389069 , accuracy : 90.80\n",
      "Epoch [60/100], Step[16/15],loss train: 0.00053595 , loss test: 0.51740859 , accuracy : 90.60\n",
      "Epoch [65/100], Step[16/15],loss train: 0.00044595 , loss test: 0.53003245 , accuracy : 90.60\n",
      "Epoch [70/100], Step[16/15],loss train: 0.00037678 , loss test: 0.54153007 , accuracy : 90.80\n",
      "Epoch [75/100], Step[16/15],loss train: 0.00032252 , loss test: 0.55244882 , accuracy : 90.80\n",
      "Epoch [80/100], Step[16/15],loss train: 0.00027897 , loss test: 0.56278447 , accuracy : 90.60\n",
      "Epoch [85/100], Step[16/15],loss train: 0.00024355 , loss test: 0.57269202 , accuracy : 90.40\n",
      "Epoch [90/100], Step[16/15],loss train: 0.00021426 , loss test: 0.58255303 , accuracy : 90.20\n",
      "Epoch [95/100], Step[16/15],loss train: 0.00018966 , loss test: 0.59191606 , accuracy : 90.00\n",
      "Epoch [100/100], Step[16/15],loss train: 0.00016884 , loss test: 0.60091891 , accuracy : 90.00\n"
     ]
    },
    {
     "data": {
      "image/png": "[encoded data removed]",
      "text/plain": [
       "<Figure size 640x480 with 2 Axes>"
      ]
     },
     "metadata": {},
     "output_type": "display_data"
    }
   ],
   "source": [
    "learning_rate = 0.001\n",
    "num_epochs = 100\n",
    "\n",
    "# training\n",
    "# initialize net and optimizer\n",
    "lambda_l2 = 0.1\n",
    "nn_size = input_size*256 + 256*128 + 128*64 + 64 * 10\n",
    "net_linear = NetTanh_L2()\n",
    "net_linear = net_linear.to(device)\n",
    "optimizer_linear = torch.optim.Adam(net_linear.parameters(),lr = learning_rate)\n",
    "plot = Plot(test_function(net_linear)[0])\n",
    "for epoch in range(num_epochs):\n",
    "    loss_train = 0\n",
    "    for i,(images, labels) in enumerate(train_loader):\n",
    "        images = images.view(-1, 28*28).to(device)\n",
    "        labels = labels.to(device)\n",
    "        optimizer_linear.zero_grad()\n",
    "        outputs = net_linear(images)\n",
    "        \n",
    "        loss_0 = criterion(outputs, labels)\n",
    "        loss_train += loss_0.item()\n",
    "        \n",
    "        l2_reg = lambda_l2/(2 * nn_size) * net_linear.l2_weights()\n",
    "        \n",
    "        #######\n",
    "\n",
    "        ## TODO\n",
    "        \n",
    "        loss = loss_0 + l2_reg\n",
    "        \n",
    "    \n",
    "\n",
    "        #######\n",
    "        loss.backward()\n",
    "        optimizer_linear.step()\n",
    "        \n",
    "    loss_test, accuracy = test_function(net_linear)\n",
    "    loss_train = loss_train/len(train_loader)\n",
    "    plot.append_loss_test(loss_test)\n",
    "    plot.append_loss_train(loss_train)\n",
    "    plot.append_x_axis(epoch + (i + 1)/(len(train_dataset)//batch_size))\n",
    "    if (epoch + 1) % 5 == 0:\n",
    "        print('Epoch [%d/%d], Step[%d/%d],loss train: %.8f , loss test: %.8f , accuracy : %.2f'%(epoch+1, num_epochs, i+1, len(train_dataset)//batch_size, loss_train, loss_test, accuracy))\n",
    "plot.plot()"
   ]
  },
  {
   "cell_type": "markdown",
   "metadata": {},
   "source": [
    "#### L1 Regularization\n",
    "It is similar to L2 regularization but the regularization term looks different:\n",
    "\\begin{eqnarray}  C = C_0 + \\frac{\\lambda}{n} \\sum_w |w|.\\end{eqnarray}\n",
    "Implement this regularization type in one of your NNs. Again don't use the PyTorch implementation and write it on your own."
   ]
  },
  {
   "cell_type": "code",
   "execution_count": 60,
   "metadata": {},
   "outputs": [],
   "source": [
    "# class\n",
    "### SOLUTION ###\n",
    "class NetSigmoid_L1(NetTanh):\n",
    "    def l1_weights(self):\n",
    "        l1_weights = torch.sum(torch.abs(self.layer_input.weight.data))\n",
    "        l1_weights += torch.sum(torch.abs(self.layer_hidden_one.weight.data))\n",
    "        l1_weights += torch.sum(torch.abs(self.layer_hidden_two.weight.data))\n",
    "        l1_weights += torch.sum(torch.abs(self.layer_output.weight.data))\n",
    "        return l1_weights\n",
    "### ENDSOLUTION ###"
   ]
  },
  {
   "cell_type": "code",
   "execution_count": 61,
   "metadata": {},
   "outputs": [
    {
     "name": "stdout",
     "output_type": "stream",
     "text": [
      "Epoch [10/400], Step[16/15],loss train: 1.77938426 , loss test: 1.72907418 , accuracy : 58.80\n",
      "Epoch [20/400], Step[16/15],loss train: 1.24706844 , loss test: 1.25504467 , accuracy : 71.20\n",
      "Epoch [30/400], Step[16/15],loss train: 0.94173901 , loss test: 0.98760145 , accuracy : 79.40\n",
      "Epoch [40/400], Step[16/15],loss train: 0.74685077 , loss test: 0.81816746 , accuracy : 81.60\n",
      "Epoch [50/400], Step[16/15],loss train: 0.61207957 , loss test: 0.70245101 , accuracy : 83.60\n",
      "Epoch [60/400], Step[16/15],loss train: 0.51282615 , loss test: 0.62169186 , accuracy : 84.80\n",
      "Epoch [70/400], Step[16/15],loss train: 0.43644683 , loss test: 0.56499913 , accuracy : 85.60\n",
      "Epoch [80/400], Step[16/15],loss train: 0.37563993 , loss test: 0.52501510 , accuracy : 86.40\n",
      "Epoch [90/400], Step[16/15],loss train: 0.32566376 , loss test: 0.49663862 , accuracy : 86.00\n",
      "Epoch [100/400], Step[16/15],loss train: 0.28354910 , loss test: 0.47630338 , accuracy : 86.00\n",
      "Epoch [110/400], Step[16/15],loss train: 0.24761662 , loss test: 0.46150238 , accuracy : 86.40\n",
      "Epoch [120/400], Step[16/15],loss train: 0.21681825 , loss test: 0.45057587 , accuracy : 86.60\n",
      "Epoch [130/400], Step[16/15],loss train: 0.19028088 , loss test: 0.44254028 , accuracy : 86.60\n",
      "Epoch [140/400], Step[16/15],loss train: 0.16721784 , loss test: 0.43681893 , accuracy : 86.40\n",
      "Epoch [150/400], Step[16/15],loss train: 0.14699138 , loss test: 0.43301910 , accuracy : 86.60\n",
      "Epoch [160/400], Step[16/15],loss train: 0.12914828 , loss test: 0.43080708 , accuracy : 86.20\n",
      "Epoch [170/400], Step[16/15],loss train: 0.11336888 , loss test: 0.42987488 , accuracy : 86.20\n",
      "Epoch [180/400], Step[16/15],loss train: 0.09941133 , loss test: 0.42994011 , accuracy : 86.00\n",
      "Epoch [190/400], Step[16/15],loss train: 0.08710275 , loss test: 0.43073877 , accuracy : 85.80\n",
      "Epoch [200/400], Step[16/15],loss train: 0.07631833 , loss test: 0.43203757 , accuracy : 86.00\n",
      "Epoch [210/400], Step[16/15],loss train: 0.06693802 , loss test: 0.43366347 , accuracy : 86.00\n",
      "Epoch [220/400], Step[16/15],loss train: 0.05881932 , loss test: 0.43552911 , accuracy : 86.40\n",
      "Epoch [230/400], Step[16/15],loss train: 0.05180733 , loss test: 0.43764253 , accuracy : 86.40\n",
      "Epoch [240/400], Step[16/15],loss train: 0.04577349 , loss test: 0.44006437 , accuracy : 86.60\n",
      "Epoch [250/400], Step[16/15],loss train: 0.04063131 , loss test: 0.44280102 , accuracy : 86.60\n",
      "Epoch [260/400], Step[16/15],loss train: 0.03629174 , loss test: 0.44574232 , accuracy : 86.60\n",
      "Epoch [270/400], Step[16/15],loss train: 0.03263614 , loss test: 0.44875796 , accuracy : 86.60\n",
      "Epoch [280/400], Step[16/15],loss train: 0.02954370 , loss test: 0.45178469 , accuracy : 86.60\n",
      "Epoch [290/400], Step[16/15],loss train: 0.02691251 , loss test: 0.45481011 , accuracy : 86.80\n",
      "Epoch [300/400], Step[16/15],loss train: 0.02466122 , loss test: 0.45783888 , accuracy : 86.80\n",
      "Epoch [310/400], Step[16/15],loss train: 0.02272522 , loss test: 0.46087814 , accuracy : 86.60\n",
      "Epoch [320/400], Step[16/15],loss train: 0.02105275 , loss test: 0.46393342 , accuracy : 86.60\n",
      "Epoch [330/400], Step[16/15],loss train: 0.01960193 , loss test: 0.46700837 , accuracy : 86.80\n",
      "Epoch [340/400], Step[16/15],loss train: 0.01833872 , loss test: 0.47010531 , accuracy : 86.80\n",
      "Epoch [350/400], Step[16/15],loss train: 0.01723511 , loss test: 0.47322563 , accuracy : 86.80\n",
      "Epoch [360/400], Step[16/15],loss train: 0.01626801 , loss test: 0.47636987 , accuracy : 86.80\n",
      "Epoch [370/400], Step[16/15],loss train: 0.01541817 , loss test: 0.47953816 , accuracy : 86.80\n",
      "Epoch [380/400], Step[16/15],loss train: 0.01466952 , loss test: 0.48273039 , accuracy : 86.80\n",
      "Epoch [390/400], Step[16/15],loss train: 0.01400851 , loss test: 0.48594594 , accuracy : 86.80\n",
      "Epoch [400/400], Step[16/15],loss train: 0.01342367 , loss test: 0.48918433 , accuracy : 87.00\n"
     ]
    },
    {
     "data": {
      "image/png": "[encoded data removed]",
      "text/plain": [
       "<Figure size 640x480 with 2 Axes>"
      ]
     },
     "metadata": {},
     "output_type": "display_data"
    }
   ],
   "source": [
    "learning_rate = 0.00005\n",
    "num_epochs = 400\n",
    "\n",
    "# training\n",
    "# initialize net and optimizer\n",
    "net_sigmoid  = NetSigmoid_L1().to(device)\n",
    "optimizer_sigmoid = torch.optim.Adam(net_sigmoid.parameters(),lr = learning_rate) #torch.optim.SGD(net_sigmoid.parameters(),lr = learning_rate)\n",
    "plot = Plot(test_function(net_sigmoid)[0])\n",
    "### ENDSOLUTION ###\n",
    "#train the net\n",
    "### SOLUTION ###\n",
    "lambda_l1 = 0.5\n",
    "nn_size = input_size*256 + 256*128 + 128*64 + 64 * 10\n",
    "for epoch in range(num_epochs):\n",
    "    loss_train = 0\n",
    "    for i,(images, labels) in enumerate(train_loader):\n",
    "        images = images.view(-1, 28*28).to(device)\n",
    "        labels = labels.to(device)\n",
    "        optimizer_sigmoid.zero_grad()\n",
    "        outputs = net_sigmoid(images)\n",
    "\n",
    "        #######\n",
    "\n",
    "        ## TODO\n",
    "        loss_0 = criterion(outputs, labels)\n",
    "        loss_train += loss_0.item()\n",
    "        \n",
    "        l1_reg = lambda_l1/(2 * nn_size) * net_sigmoid.l1_weights()\n",
    "        \n",
    "        \n",
    "        loss = loss_0 + l1_reg\n",
    "        \n",
    "\n",
    "        #######\n",
    "        \n",
    "        loss.backward()\n",
    "        optimizer_sigmoid.step()\n",
    "        loss_train += loss.item() * images.size(0)\n",
    "        \n",
    "    loss_test, accuracy = test_function(net_sigmoid)\n",
    "    loss_train = loss_train/len(train_dataset)\n",
    "    plot.append_loss_test(loss_test)\n",
    "    plot.append_loss_train(loss_train)\n",
    "    plot.append_x_axis(epoch + (i + 1)/(len(train_dataset)//batch_size))\n",
    "    if (epoch + 1) % 10 == 0:\n",
    "        print('Epoch [%d/%d], Step[%d/%d],loss train: %.8f , loss test: %.8f , accuracy : %.2f'%(epoch+1, num_epochs, i+1, len(train_dataset)//batch_size, loss_train, loss_test, accuracy))\n",
    "plot.plot()\n"
   ]
  },
  {
   "cell_type": "markdown",
   "metadata": {},
   "source": [
    "#### Dropout\n",
    "This regularization type works differently than the others. It does not affect weights. It \"switches\" some of them off in the hidden layer with probability $p$. In this case, you can use the implementation of PyTorch!"
   ]
  },
  {
   "cell_type": "code",
   "execution_count": 71,
   "metadata": {},
   "outputs": [],
   "source": [
    "# class\n",
    "class NetDropOut(BaseNet):\n",
    "    def __init__(self):\n",
    "        super().__init__()\n",
    "        self.dropout = nn.Dropout(p=0.05)\n",
    "        self.activation = nn.ReLU()\n",
    "\n",
    "    def forward (self, x):\n",
    "        # Solution\n",
    "        out = self.dropout(self.activation(self.layer_input(x)))\n",
    "        out = self.dropout(self.activation(self.layer_hidden_one(out)))\n",
    "        out = self.dropout(self.activation(self.layer_hidden_two(out)))\n",
    "        out = self.layer_output(out)\n",
    "        return out"
   ]
  },
  {
   "cell_type": "code",
   "execution_count": 73,
   "metadata": {},
   "outputs": [
    {
     "name": "stdout",
     "output_type": "stream",
     "text": [
      "Epoch [10/400], loss train: 2.05135963 , loss test: 2.02092208 , accuracy : 53.20\n",
      "Epoch [20/400], loss train: 1.22597261 , loss test: 1.23242779 , accuracy : 68.60\n",
      "Epoch [30/400], loss train: 0.81384222 , loss test: 0.87770730 , accuracy : 74.80\n",
      "Epoch [40/400], loss train: 0.60459172 , loss test: 0.70786314 , accuracy : 79.60\n",
      "Epoch [50/400], loss train: 0.51218020 , loss test: 0.61261010 , accuracy : 81.00\n",
      "Epoch [60/400], loss train: 0.42265421 , loss test: 0.54286563 , accuracy : 84.20\n",
      "Epoch [70/400], loss train: 0.36465935 , loss test: 0.51444201 , accuracy : 83.20\n",
      "Epoch [80/400], loss train: 0.32974604 , loss test: 0.48934969 , accuracy : 84.40\n",
      "Epoch [90/400], loss train: 0.29026955 , loss test: 0.48544626 , accuracy : 84.40\n",
      "Epoch [100/400], loss train: 0.25788820 , loss test: 0.48629735 , accuracy : 85.40\n",
      "Epoch [110/400], loss train: 0.23442750 , loss test: 0.47272700 , accuracy : 85.60\n",
      "Epoch [120/400], loss train: 0.20928371 , loss test: 0.45231502 , accuracy : 85.80\n",
      "Epoch [130/400], loss train: 0.18376307 , loss test: 0.44851395 , accuracy : 86.80\n",
      "Epoch [140/400], loss train: 0.16299003 , loss test: 0.44228943 , accuracy : 87.40\n",
      "Epoch [150/400], loss train: 0.14403420 , loss test: 0.42313210 , accuracy : 87.60\n",
      "Epoch [160/400], loss train: 0.13119986 , loss test: 0.43103201 , accuracy : 87.00\n",
      "Epoch [170/400], loss train: 0.11264875 , loss test: 0.45059709 , accuracy : 86.60\n",
      "Epoch [180/400], loss train: 0.10920457 , loss test: 0.45942465 , accuracy : 87.20\n",
      "Epoch [190/400], loss train: 0.09400058 , loss test: 0.44507297 , accuracy : 86.00\n",
      "Epoch [200/400], loss train: 0.08066417 , loss test: 0.50275928 , accuracy : 85.20\n",
      "Epoch [210/400], loss train: 0.07430316 , loss test: 0.46325710 , accuracy : 88.60\n",
      "Epoch [220/400], loss train: 0.06030361 , loss test: 0.46955807 , accuracy : 86.40\n",
      "Epoch [230/400], loss train: 0.05903677 , loss test: 0.47336173 , accuracy : 87.00\n",
      "Epoch [240/400], loss train: 0.05491026 , loss test: 0.49315167 , accuracy : 86.20\n",
      "Epoch [250/400], loss train: 0.04451225 , loss test: 0.48472447 , accuracy : 87.60\n",
      "Epoch [260/400], loss train: 0.04091077 , loss test: 0.49449150 , accuracy : 86.80\n",
      "Epoch [270/400], loss train: 0.03445075 , loss test: 0.51858882 , accuracy : 87.00\n",
      "Epoch [280/400], loss train: 0.03097363 , loss test: 0.53182967 , accuracy : 88.00\n",
      "Epoch [290/400], loss train: 0.02933881 , loss test: 0.51592683 , accuracy : 87.20\n",
      "Epoch [300/400], loss train: 0.02573485 , loss test: 0.49680708 , accuracy : 87.40\n",
      "Epoch [310/400], loss train: 0.01938390 , loss test: 0.52889882 , accuracy : 85.80\n",
      "Epoch [320/400], loss train: 0.01959729 , loss test: 0.50830674 , accuracy : 87.40\n",
      "Epoch [330/400], loss train: 0.02089526 , loss test: 0.55587061 , accuracy : 87.00\n",
      "Epoch [340/400], loss train: 0.01642204 , loss test: 0.52954575 , accuracy : 87.80\n",
      "Epoch [350/400], loss train: 0.01314064 , loss test: 0.55101654 , accuracy : 87.20\n",
      "Epoch [360/400], loss train: 0.01236993 , loss test: 0.56685304 , accuracy : 87.00\n",
      "Epoch [370/400], loss train: 0.01149223 , loss test: 0.56384270 , accuracy : 87.60\n",
      "Epoch [380/400], loss train: 0.01220435 , loss test: 0.56870461 , accuracy : 87.60\n",
      "Epoch [390/400], loss train: 0.00951028 , loss test: 0.56042402 , accuracy : 88.40\n",
      "Epoch [400/400], loss train: 0.00861867 , loss test: 0.56221841 , accuracy : 87.40\n"
     ]
    },
    {
     "data": {
      "image/png": "[encoded data removed]",
      "text/plain": [
       "<Figure size 640x480 with 2 Axes>"
      ]
     },
     "metadata": {},
     "output_type": "display_data"
    }
   ],
   "source": [
    "learning_rate = 0.00005\n",
    "num_epochs = 400\n",
    "\n",
    "# training\n",
    "# initialize net and optimizer\n",
    "\n",
    "net_relu = NetDropOut()\n",
    "optimizer_relu = torch.optim.Adam(net_relu.parameters(),lr = learning_rate)\n",
    "plot = Plot(test_function(net_relu)[0])\n",
    "\n",
    "\n",
    "# train the net\n",
    "for epoch in range(num_epochs):\n",
    "    loss_train = 0\n",
    "    for i,(images, labels) in enumerate(train_loader):\n",
    "        images = images.view(-1, 28*28).to(device)\n",
    "        labels = labels.to(device)\n",
    "        optimizer_relu.zero_grad()\n",
    "        outputs = net_relu(images)\n",
    "        loss = criterion(outputs, labels)\n",
    "        loss.backward()\n",
    "        optimizer_relu.step()\n",
    "        loss_train += loss.item() * images.size(0)\n",
    "    loss_test, accuracy = test_function(net_relu)\n",
    "    loss_train = loss_train/len(train_dataset)\n",
    "    plot.append_loss_test(loss_test)\n",
    "    plot.append_loss_train(loss_train)\n",
    "    plot.append_x_axis(epoch + (i + 1)/(len(train_dataset)//batch_size))\n",
    "    if (epoch + 1) % 10 == 0:\n",
    "        print('Epoch [%d/%d], loss train: %.8f , loss test: %.8f , accuracy : %.2f'%(epoch+1, num_epochs, loss_train, loss_test, accuracy))\n",
    "plot.plot()"
   ]
  },
  {
   "cell_type": "markdown",
   "metadata": {},
   "source": [
    "You are almost done! Play around with the parameters. You can also try to combine some regularization types (for example, it is a standard rule that max norm constraint and dropout suit each other very well)."
   ]
  },
  {
   "cell_type": "code",
   "execution_count": null,
   "metadata": {},
   "outputs": [],
   "source": []
  }
 ],
 "metadata": {
  "kernelspec": {
   "display_name": "Python 3 (ipykernel)",
   "language": "python",
   "name": "python3"
  },
  "language_info": {
   "codemirror_mode": {
    "name": "ipython",
    "version": 3
   },
   "file_extension": ".py",
   "mimetype": "text/x-python",
   "name": "python",
   "nbconvert_exporter": "python",
   "pygments_lexer": "ipython3",
   "version": "3.10.10"
  }
 },
 "nbformat": 4,
 "nbformat_minor": 4
}
