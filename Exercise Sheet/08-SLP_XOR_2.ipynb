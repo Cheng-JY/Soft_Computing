{
 "cells": [
  {
   "cell_type": "markdown",
   "metadata": {},
   "source": [
    "# Single Layer Perceptron mit Trainingsmethode für XOR"
   ]
  },
  {
   "cell_type": "code",
   "execution_count": 1,
   "metadata": {},
   "outputs": [],
   "source": [
    "import torch"
   ]
  },
  {
   "cell_type": "markdown",
   "metadata": {},
   "source": [
    "# Aufgabe 1 (Fit Methode)\n",
    "\n",
    "Implementieren Sie eine Trainingsmethode für Ihr erstelltes SLP. Es soll die Funktion **OR** und **AND** lernen können."
   ]
  },
  {
   "cell_type": "code",
   "execution_count": 2,
   "metadata": {},
   "outputs": [],
   "source": [
    "class SLP():\n",
    "    \"\"\"\n",
    "    Single Layer Perceptron\n",
    "    \"\"\"\n",
    "\n",
    "    def __init__(self):\n",
    "        \"\"\" Initialisierung der Gewichte (torch.tensor) und des Schwellwertes (skalar). \"\"\"\n",
    "        self.weights = torch.zeros(2)\n",
    "        self.threshold = 0\n",
    "\n",
    "    def net_input_function(self, inp):\n",
    "        \"\"\" Netzeingabefunktion: Gewichtete Summe der Eingaben (torch.tensors). \"\"\"\n",
    "        return torch.sum(inp * self.weights)\n",
    "\n",
    "    def activation_function(self, val):\n",
    "        \"\"\" Aktivierungsfunktion: Schwellwertfunktion. \"\"\"\n",
    "        return torch.tensor(int(val > self.threshold),dtype=torch.float32)\n",
    "\n",
    "    def set_weights(self, weights):\n",
    "        \"\"\" Setzen der Gewichte des SLP. \"\"\"\n",
    "        self.weights = weights\n",
    "\n",
    "    def set_threshold(self, threshold):\n",
    "        \"\"\"Setzen des Schwellenwertes des SLP. \"\"\"\n",
    "        self.threshold = threshold\n",
    "\n",
    "    def get_output(self, inp):\n",
    "        \"\"\" Berechnen der Ausgabe des Neurons: Für einen Input wird zuerst die \n",
    "        Netzeingabefunktion und darauf die Aktivierungsfunktion angewendet. Das \n",
    "        Ergebnis wird ausgegeben. \"\"\"\n",
    "        return self.activation_function(self.net_input_function(inp))\n",
    "\n",
    "    def fit(self, X, y, epochs, learning_rate=.5):\n",
    "        \"\"\"Training des SLP.\"\"\"\n",
    "        for epoche in range(epochs):\n",
    "            for x_i, y_i in zip(X,y):\n",
    "                y_pred = self.get_output(x_i)\n",
    "                error = y_i - y_pred\n",
    "                delta = learning_rate * error * x_i\n",
    "                self.weights += delta\n",
    "                self.threshold -= learning_rate * error\n",
    "        "
   ]
  },
  {
   "cell_type": "code",
   "execution_count": 3,
   "metadata": {},
   "outputs": [],
   "source": [
    "def test_slp(slp, instances, targets):\n",
    "    for instance, target in zip(instances, targets):\n",
    "        label = torch.round(slp.get_output(instance))\n",
    "        print(instance, '|', label, '|', target, '| equal =', label==target)"
   ]
  },
  {
   "cell_type": "code",
   "execution_count": 5,
   "metadata": {
    "ExecuteTime": {
     "end_time": "2018-04-26T09:36:43.784336Z",
     "start_time": "2018-04-26T09:36:43.756335Z"
    }
   },
   "outputs": [],
   "source": [
    "# Trainingsdaten AND\n",
    "X, y = torch.tensor([[0, 0], [0, 1], [1, 0], [1, 1]],dtype=torch.float32), torch.tensor([0, 0, 0, 1],dtype=torch.float32)\n",
    "epochs = 10\n",
    "slp_and = SLP()\n",
    "slp_and.fit(X, y, epochs)"
   ]
  },
  {
   "cell_type": "code",
   "execution_count": 6,
   "metadata": {
    "ExecuteTime": {
     "end_time": "2018-04-26T09:36:44.423684Z",
     "start_time": "2018-04-26T09:36:44.402883Z"
    }
   },
   "outputs": [
    {
     "name": "stdout",
     "output_type": "stream",
     "text": [
      "tensor([0., 0.]) | tensor(0.) | tensor(0.) | equal = tensor(True)\n",
      "tensor([0., 1.]) | tensor(0.) | tensor(0.) | equal = tensor(True)\n",
      "tensor([1., 0.]) | tensor(0.) | tensor(0.) | equal = tensor(True)\n",
      "tensor([1., 1.]) | tensor(1.) | tensor(1.) | equal = tensor(True)\n"
     ]
    }
   ],
   "source": [
    "test_slp(slp_and, X, y)"
   ]
  },
  {
   "cell_type": "code",
   "execution_count": 7,
   "metadata": {
    "ExecuteTime": {
     "end_time": "2018-04-26T09:36:45.366897Z",
     "start_time": "2018-04-26T09:36:45.340993Z"
    }
   },
   "outputs": [],
   "source": [
    "# Trainingsdaten OR\n",
    "X = torch.tensor([[0, 0], [0, 1], [1, 0], [1, 1]],dtype=torch.float32)\n",
    "y = torch.tensor([0, 1, 1, 1],dtype=torch.float32)\n",
    "epochs = 10\n",
    "slp_or = SLP()\n",
    "slp_or.fit(X, y, epochs)"
   ]
  },
  {
   "cell_type": "code",
   "execution_count": 8,
   "metadata": {
    "ExecuteTime": {
     "end_time": "2018-04-26T09:36:46.145280Z",
     "start_time": "2018-04-26T09:36:46.127403Z"
    }
   },
   "outputs": [
    {
     "name": "stdout",
     "output_type": "stream",
     "text": [
      "tensor([0., 0.]) | tensor(0.) | tensor(0.) | equal = tensor(True)\n",
      "tensor([0., 1.]) | tensor(1.) | tensor(1.) | equal = tensor(True)\n",
      "tensor([1., 0.]) | tensor(1.) | tensor(1.) | equal = tensor(True)\n",
      "tensor([1., 1.]) | tensor(1.) | tensor(1.) | equal = tensor(True)\n"
     ]
    }
   ],
   "source": [
    "test_slp(slp_or, X, y)"
   ]
  },
  {
   "cell_type": "markdown",
   "metadata": {},
   "source": [
    "# Aufgabe 2 (Sigmoid)\n",
    "Implementieren Sie nun das Training und benutzen Sie eine sigmoide Funktion. Berechnen Sie dazu die Ableitung der Fehlerfunktion um die Gewichts- und Schwellwertänderung zu erhalten."
   ]
  },
  {
   "cell_type": "markdown",
   "metadata": {},
   "source": [
    "\\begin{align}\n",
    "\\mathcal{E}(k) &= \\frac{1}{2}(y - t)^2\\\\\n",
    "y &= \\frac{1}{ 1+e^{-\\left(\\sum{wx} + \\theta\\right)}}\\\\\n",
    "\\end{align}"
   ]
  },
  {
   "cell_type": "code",
   "execution_count": 33,
   "metadata": {},
   "outputs": [],
   "source": [
    "class SLP_sigmoid():\n",
    "    \"\"\"\n",
    "    Single Layer Perceptron\n",
    "    \"\"\"\n",
    "\n",
    "    def __init__(self):\n",
    "        \"\"\" Initialisierung der Gewichte (torch.tensor) und des Schwellwertes (skalar). \"\"\"\n",
    "        self.weights = torch.zeros(2)\n",
    "        self.threshold = 0\n",
    "\n",
    "    def net_input_function(self, inp):\n",
    "        \"\"\" Netzeingabefunktion: Gewichtete Summe der Eingaben (torch.tensors). \"\"\"\n",
    "        return torch.sum(inp * self.weights)\n",
    "\n",
    "    def activation_function(self, val):\n",
    "        \"\"\" Aktivierungsfunktion: Schwellwertfunktion. \"\"\"\n",
    "        return 1 / (1 + torch.exp(-(val + self.threshold)))\n",
    "\n",
    "    def set_weights(self, weights):\n",
    "        \"\"\" Setzen der Gewichte des SLP. \"\"\"\n",
    "        self.weights = weights\n",
    "\n",
    "    def set_threshold(self, threshold):\n",
    "        \"\"\"Setzen des Schwellenwertes des SLP. \"\"\"\n",
    "        self.threshold = threshold\n",
    "\n",
    "    def get_output(self, inp):\n",
    "        \"\"\" Berechnen der Ausgabe des Neurons: Für einen Input wird zuerst die \n",
    "        Netzeingabefunktion und darauf die Aktivierungsfunktion angewendet. Das \n",
    "        Ergebnis wird ausgegeben. \"\"\"\n",
    "        return self.activation_function(self.net_input_function(inp))\n",
    "\n",
    "    def fit(self, X, y, epochs, learning_rate=.5):\n",
    "        \"\"\"Training des SLP.\"\"\"\n",
    "        for epoche in range(epochs):\n",
    "            for x_i, y_i in zip(X,y):\n",
    "                y_pred = self.get_output(x_i)\n",
    "                error = 1/2 * (y_pred - y_i)**2\n",
    "                \n",
    "                exp_term = torch.exp(-(self.net_input_function(x_i) + self.threshold))\n",
    "                term_1 = 1/(1+exp_term) - y_i\n",
    "                term_2 = -(1+exp_term)**-2\n",
    "                \n",
    "                deviation_w = term_1 * term_2 * (-x_i * exp_term)\n",
    "                deviation_b = term_1 * term_2 * -1 * exp_term\n",
    "                \n",
    "                delta_w = deviation_w * learning_rate\n",
    "                delta_b = deviation_b * learning_rate\n",
    "                \n",
    "                self.weights -= delta_w\n",
    "                self.threshold -= delta_b"
   ]
  },
  {
   "cell_type": "code",
   "execution_count": 34,
   "metadata": {
    "ExecuteTime": {
     "end_time": "2018-04-26T09:37:12.644028Z",
     "start_time": "2018-04-26T09:37:12.514128Z"
    }
   },
   "outputs": [],
   "source": [
    "# Trainingsdaten AND\n",
    "X = torch.tensor([[0, 0], [0, 1], [1, 0], [1, 1]],dtype=torch.float32)\n",
    "y = torch.tensor([0, 0, 0, 1],dtype=torch.float32)\n",
    "epochs = 100\n",
    "slp_and_sig = SLP_sigmoid()\n",
    "slp_and_sig.fit(X, y, epochs)"
   ]
  },
  {
   "cell_type": "code",
   "execution_count": 35,
   "metadata": {
    "ExecuteTime": {
     "end_time": "2018-04-26T09:37:13.747841Z",
     "start_time": "2018-04-26T09:37:13.729127Z"
    }
   },
   "outputs": [
    {
     "name": "stdout",
     "output_type": "stream",
     "text": [
      "tensor([0., 0.]) | tensor(0.) | tensor(0.) | equal = tensor(True)\n",
      "tensor([0., 1.]) | tensor(0.) | tensor(0.) | equal = tensor(True)\n",
      "tensor([1., 0.]) | tensor(0.) | tensor(0.) | equal = tensor(True)\n",
      "tensor([1., 1.]) | tensor(1.) | tensor(1.) | equal = tensor(True)\n"
     ]
    }
   ],
   "source": [
    "test_slp(slp_and_sig, X, y)"
   ]
  },
  {
   "cell_type": "code",
   "execution_count": 38,
   "metadata": {
    "ExecuteTime": {
     "end_time": "2018-04-26T09:37:15.125191Z",
     "start_time": "2018-04-26T09:37:14.982935Z"
    }
   },
   "outputs": [],
   "source": [
    "# Trainingsdaten OR\n",
    "X = torch.tensor([[0, 0], [0, 1], [1, 0], [1, 1]],dtype=torch.float32)\n",
    "y = torch.tensor([0, 1, 1, 1],dtype=torch.float32)\n",
    "epochs = 100\n",
    "slp_or_sig = SLP_sigmoid()\n",
    "slp_or_sig.fit(X, y, epochs)"
   ]
  },
  {
   "cell_type": "code",
   "execution_count": 39,
   "metadata": {
    "ExecuteTime": {
     "end_time": "2018-04-26T09:37:15.569009Z",
     "start_time": "2018-04-26T09:37:15.556489Z"
    }
   },
   "outputs": [
    {
     "name": "stdout",
     "output_type": "stream",
     "text": [
      "tensor([0., 0.]) | tensor(0.) | tensor(0.) | equal = tensor(True)\n",
      "tensor([0., 1.]) | tensor(1.) | tensor(1.) | equal = tensor(True)\n",
      "tensor([1., 0.]) | tensor(1.) | tensor(1.) | equal = tensor(True)\n",
      "tensor([1., 1.]) | tensor(1.) | tensor(1.) | equal = tensor(True)\n"
     ]
    }
   ],
   "source": [
    "test_slp(slp_or_sig, X, y)"
   ]
  },
  {
   "cell_type": "code",
   "execution_count": null,
   "metadata": {},
   "outputs": [],
   "source": []
  }
 ],
 "metadata": {
  "kernelspec": {
   "display_name": "Python 3 (ipykernel)",
   "language": "python",
   "name": "python3"
  },
  "language_info": {
   "codemirror_mode": {
    "name": "ipython",
    "version": 3
   },
   "file_extension": ".py",
   "mimetype": "text/x-python",
   "name": "python",
   "nbconvert_exporter": "python",
   "pygments_lexer": "ipython3",
   "version": "3.10.10"
  },
  "varInspector": {
   "cols": {
    "lenName": 16,
    "lenType": 16,
    "lenVar": 40
   },
   "kernels_config": {
    "python": {
     "delete_cmd_postfix": "",
     "delete_cmd_prefix": "del ",
     "library": "var_list.py",
     "varRefreshCmd": "print(var_dic_list())"
    },
    "r": {
     "delete_cmd_postfix": ") ",
     "delete_cmd_prefix": "rm(",
     "library": "var_list.r",
     "varRefreshCmd": "cat(var_dic_list()) "
    }
   },
   "types_to_exclude": [
    "module",
    "function",
    "builtin_function_or_method",
    "instance",
    "_Feature"
   ],
   "window_display": false
  }
 },
 "nbformat": 4,
 "nbformat_minor": 4
}
