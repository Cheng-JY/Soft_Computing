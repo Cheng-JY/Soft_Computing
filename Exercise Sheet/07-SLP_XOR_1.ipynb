{
 "cells": [
  {
   "cell_type": "markdown",
   "metadata": {},
   "source": [
    "# Einführung in Torch"
   ]
  },
  {
   "cell_type": "markdown",
   "metadata": {},
   "source": [
    "## Aufgabe 1: Eingabe und Arbeit mit Vektoren in pytorch\n",
    "\n",
    "Erarbeiten Sie sich die grundlegenden Funktionen zur Bibliothek torch mit Hilfe eines frei gewählten Tutorials (z.B. https://pytorch.org/tutorials/beginner/basics/tensorqs_tutorial.html ) und lösen Sie die folgenden Aufgaben. \n",
    "\n",
    "Hinweis: Vergessen Sie nicht, die vorgegebenen Befehle auszuführen.\n",
    "\n",
    "Pytorch-Installation https://pytorch.org/get-started/locally/"
   ]
  },
  {
   "cell_type": "code",
   "execution_count": 2,
   "metadata": {},
   "outputs": [],
   "source": [
    "import torch"
   ]
  },
  {
   "cell_type": "markdown",
   "metadata": {},
   "source": [
    "a) Legen Sie einen 3-dimensionalen Vektor a an, der drei beliebige von Ihnen gewählte Werte enthält und multiplizieren Sie ihn mit einem beliebigen Skalar α ∈ R \\ 0. Legen Sie das Ergebnis in einem weiteren Vektor b ab."
   ]
  },
  {
   "cell_type": "code",
   "execution_count": 9,
   "metadata": {},
   "outputs": [
    {
     "name": "stdout",
     "output_type": "stream",
     "text": [
      "tensor([1., 2., 3.])\n",
      "tensor([ 5., 10., 15.])\n"
     ]
    }
   ],
   "source": [
    "a = torch.tensor([1., 2., 3.])\n",
    "alpha = 5.\n",
    "b = a * alpha\n",
    "\n",
    "print(a)\n",
    "print(b)"
   ]
  },
  {
   "cell_type": "markdown",
   "metadata": {},
   "source": [
    "b) Berechnen Sie das elementweise Produkt der Vektoren a und b und legen Sie das Ergebnis in einem Vektor c ab."
   ]
  },
  {
   "cell_type": "code",
   "execution_count": 10,
   "metadata": {},
   "outputs": [
    {
     "name": "stdout",
     "output_type": "stream",
     "text": [
      "tensor([ 5., 20., 45.])\n"
     ]
    }
   ],
   "source": [
    "c = a * b\n",
    "print(c)"
   ]
  },
  {
   "cell_type": "markdown",
   "metadata": {},
   "source": [
    "c) Berechnen Sie das Standardskalarprodukt `<a,b>` und speichern Sie das Ergebnis in einem Skalar `s`."
   ]
  },
  {
   "cell_type": "code",
   "execution_count": 11,
   "metadata": {},
   "outputs": [
    {
     "name": "stdout",
     "output_type": "stream",
     "text": [
      "tensor(70.)\n"
     ]
    }
   ],
   "source": [
    "s = c.sum()\n",
    "print(s)"
   ]
  },
  {
   "cell_type": "markdown",
   "metadata": {},
   "source": [
    "d) Von der folgenden zufällig initialisierten 5x5 Matrix sollen folgende Teile ausgegeben werden (hier Indizes 1-basiert):\n",
    " - den Eintrag in der 2-ten Zeile und 4-ten Spalte\n",
    " - eine Matrix, die den Eintrag in der 2-ten Zeile und 4-ten Spalte enthält\n",
    " - die dritte Spalte\n",
    " - die letzte Zeile\n",
    " - die Spalten 3 und 4 \n",
    " - die Spalten 2,4,5"
   ]
  },
  {
   "cell_type": "code",
   "execution_count": 29,
   "metadata": {},
   "outputs": [
    {
     "name": "stdout",
     "output_type": "stream",
     "text": [
      "0 tensor([[0.2210, 0.1539, 0.8237, 0.9665, 0.9343],\n",
      "        [0.5629, 0.5262, 0.7180, 0.9773, 0.7673],\n",
      "        [0.9429, 0.8089, 0.4333, 0.3204, 0.4460],\n",
      "        [0.2476, 0.6391, 0.7850, 0.2627, 0.0823],\n",
      "        [0.6053, 0.7496, 0.6927, 0.5268, 0.0670]])\n",
      "1 tensor(0.9773)\n",
      "tensor([[0.0000, 0.0000, 0.0000, 0.9665, 0.0000],\n",
      "        [0.5629, 0.5262, 0.7180, 0.9773, 0.7673],\n",
      "        [0.0000, 0.0000, 0.0000, 0.3204, 0.0000],\n",
      "        [0.0000, 0.0000, 0.0000, 0.2627, 0.0000],\n",
      "        [0.0000, 0.0000, 0.0000, 0.5268, 0.0000]])\n",
      "3 tensor([0.8237, 0.7180, 0.4333, 0.7850, 0.6927])\n",
      "4 tensor([0.6053, 0.7496, 0.6927, 0.5268, 0.0670])\n",
      "5 tensor([[0.8237, 0.9665],\n",
      "        [0.7180, 0.9773],\n",
      "        [0.4333, 0.3204],\n",
      "        [0.7850, 0.2627],\n",
      "        [0.6927, 0.5268]])\n",
      "5 tensor([[0.1539, 0.9665, 0.9343],\n",
      "        [0.5262, 0.9773, 0.7673],\n",
      "        [0.8089, 0.3204, 0.4460],\n",
      "        [0.6391, 0.2627, 0.0823],\n",
      "        [0.7496, 0.5268, 0.0670]])\n"
     ]
    }
   ],
   "source": [
    "matrix = torch.rand(5,5)\n",
    "print(0, matrix)\n",
    "element_2_4 = matrix[1, 3]\n",
    "print(1, element_2_4)\n",
    "\n",
    "matrix_24 = matrix.clone()\n",
    "matrix_24[0, 0:3] = 0\n",
    "matrix_24[2:5, 0:3] = 0\n",
    "matrix_24[0,4] = 0\n",
    "matrix_24[2:5, 4] = 0\n",
    "print(matrix_24)\n",
    "spalt_3 = matrix[:,2]\n",
    "print(3,spalt_3)\n",
    "zeile_l = matrix[-1, :]\n",
    "print(4, zeile_l)\n",
    "spalt_3_4 = matrix[:, 2:4]\n",
    "print(5, spalt_3_4)\n",
    "spalt_245 = matrix[:, [1,3,4]]\n",
    "print(5, spalt_245)"
   ]
  },
  {
   "cell_type": "markdown",
   "metadata": {},
   "source": [
    "e) Berechnen Sie die Spalten-, sowie die Zeilensummen der Matrix `mat`."
   ]
  },
  {
   "cell_type": "code",
   "execution_count": 33,
   "metadata": {},
   "outputs": [
    {
     "name": "stdout",
     "output_type": "stream",
     "text": [
      "tensor([3.0993, 3.5518, 2.9515, 2.0168, 2.6413])\n",
      "tensor([2.5797, 2.8778, 3.4528, 3.0537, 2.2968])\n"
     ]
    }
   ],
   "source": [
    "sum_column = torch.sum(matrix, dim = 1)\n",
    "print(sum_column)\n",
    "sum_row = torch.sum(matrix, dim = 0)\n",
    "print(sum_row)"
   ]
  },
  {
   "cell_type": "markdown",
   "metadata": {},
   "source": [
    "f) Erzeugen Sie den Vektor [0, ..., 9] mithilfe von `torch.arange` und `torch.linspace`."
   ]
  },
  {
   "cell_type": "code",
   "execution_count": 38,
   "metadata": {},
   "outputs": [
    {
     "name": "stdout",
     "output_type": "stream",
     "text": [
      "tensor([0., 1., 2., 3., 4., 5., 6., 7., 8., 9.])\n",
      "tensor([0., 1., 2., 3., 4., 5., 6., 7., 8., 9.])\n"
     ]
    }
   ],
   "source": [
    "v = torch.arange(0,10,1.0)\n",
    "print(v)\n",
    "v1 = torch.linspace(0, 9, 10)\n",
    "print(v1)"
   ]
  },
  {
   "cell_type": "markdown",
   "metadata": {},
   "source": [
    "# Single Layer Perceptron Basic für XOR"
   ]
  },
  {
   "cell_type": "code",
   "execution_count": 8,
   "metadata": {
    "ExecuteTime": {
     "end_time": "2018-04-20T11:14:45.626687Z",
     "start_time": "2018-04-20T11:14:45.490471Z"
    }
   },
   "outputs": [],
   "source": [
    "import torch\n",
    "import matplotlib.pyplot as plt\n",
    "import numpy as np"
   ]
  },
  {
   "cell_type": "markdown",
   "metadata": {},
   "source": [
    "## Aufgabe 1\n",
    "\n",
    "Implementieren Sie die Klasse für ein einlagiges Perzeptron (single layer perceptron, SLP). \n",
    "Nutzen Sie das Grundgerüst."
   ]
  },
  {
   "cell_type": "code",
   "execution_count": 85,
   "metadata": {
    "ExecuteTime": {
     "end_time": "2018-04-20T11:14:46.685246Z",
     "start_time": "2018-04-20T11:14:46.668357Z"
    },
    "scrolled": true
   },
   "outputs": [],
   "source": [
    "class SLP():\n",
    "    \"\"\"\n",
    "    Single Layer Perceptron\n",
    "    \"\"\"\n",
    "    \n",
    "    weights = torch.tensor([1., 1.])\n",
    "    b = 0.\n",
    "    \n",
    "    def __init__(self):\n",
    "        \"\"\" Initialisierung der Gewichte (torch.tensor) und des Schwellwertes (skalar). \"\"\"\n",
    "        pass\n",
    "\n",
    "    def net_input_function(self , inp):\n",
    "        \"\"\" Netzeingabefunktion: Gewichtete Summe der Eingaben (torch.tensors). \"\"\"\n",
    "        result = torch.sum(inp * self.weights).item()\n",
    "        print(result)\n",
    "        return result\n",
    "\n",
    "    def activation_function(self, val):\n",
    "        \"\"\" Aktivierungsfunktion: Schwellwertfunktion. \"\"\"\n",
    "        if  val > self.b:\n",
    "            return 1\n",
    "        else:\n",
    "            return 0\n",
    "    \n",
    "    def set_weights(self, weights):\n",
    "        \"\"\" Setzen der Gewichte des SLP. \"\"\"\n",
    "        self.weights = weights\n",
    "    \n",
    "    def set_bias(self, bias):\n",
    "        \"\"\"Setzen des Schwellenwertes des SLP. \"\"\"\n",
    "        self.b = bias\n",
    "\n",
    "    def get_output(self, inp):\n",
    "        \"\"\" Berechnen der Ausgabe des Neurons: Für einen Input wird zuerst die \n",
    "        Netzeingabefunktion und darauf die Aktivierungsfunktion angewendet. Das \n",
    "        Ergebnis wird ausgegeben. \"\"\"\n",
    "        return self.activation_function(self.net_input_function(inp))\n"
   ]
  },
  {
   "cell_type": "code",
   "execution_count": 86,
   "metadata": {
    "jupyter": {
     "outputs_hidden": false
    }
   },
   "outputs": [
    {
     "name": "stdout",
     "output_type": "stream",
     "text": [
      "6.0\n"
     ]
    },
    {
     "data": {
      "text/plain": [
       "6.0"
      ]
     },
     "execution_count": 86,
     "metadata": {},
     "output_type": "execute_result"
    }
   ],
   "source": [
    "slp = SLP()\n",
    "slp.set_weights(torch.tensor([1, 10]))\n",
    "slp.set_bias(5)\n",
    "\n",
    "slp.net_input_function(torch.tensor([2, 0.4]))\n"
   ]
  },
  {
   "cell_type": "code",
   "execution_count": 87,
   "metadata": {
    "scrolled": false
   },
   "outputs": [
    {
     "name": "stdout",
     "output_type": "stream",
     "text": [
      "6.0\n",
      "1 == 1?\n",
      "4.0\n",
      "0 == 0?\n"
     ]
    }
   ],
   "source": [
    "# soll 1 ausgeben\n",
    "print(slp.get_output(torch.tensor([2, 0.4])), '== 1?')\n",
    "\n",
    "# soll 0 ausgeben\n",
    "print(slp.get_output(torch.tensor([0, 0.4])), '== 0?')"
   ]
  },
  {
   "cell_type": "markdown",
   "metadata": {},
   "source": [
    "## Aufgabe 2\n",
    "Erstellen Sie 3 Perzeptren, welche die Funktionen **OR**, **AND** und **XOR** abbilden. Setzen Sie dazu die passende Gewichte $w$ und Schwellwerte $\\theta$."
   ]
  },
  {
   "cell_type": "code",
   "execution_count": 2,
   "metadata": {},
   "outputs": [],
   "source": [
    "def test_slp(slp, instances, targets):\n",
    "    for instance, target in zip(instances, targets):\n",
    "        label = slp.get_output(instance)\n",
    "        print(instance, '|', label, '|', target, '| equal =', label==target)\n",
    "\n",
    "    xs = np.arange(-1,3,0.1)\n",
    "    X1,X2 = np.meshgrid(xs,xs)\n",
    "    Theta = np.vstack([X1.ravel(), X2.ravel()]).T\n",
    "    Z = np.asarray([slp.get_output(torch.tensor(x)) for x in Theta]).reshape(len(xs),len(xs))\n",
    "    plt.figure(figsize=(3,3))\n",
    "    plt.text(0,.2, \"   $slp(x)=0$\")\n",
    "    plt.text(.8,.74, \"   $slp(x)=1$\")\n",
    "    plt.contour(xs, xs, Z, colors='k', levels=0, edgecolor='k', zorder=4)\n",
    "    for i in range(0,len(instances)):\n",
    "        plt.scatter(instances[i][0], instances[i][1], marker='o', edgecolor='k', label=f\"({instances[i].numpy()},{targets[i]})\")\n",
    "    #plt.scatter(*instances.T, marker='o', edgecolor='k', c='m')\n",
    "\n",
    "    plt.xticks([0,1])\n",
    "    plt.yticks([0,1])\n",
    "    plt.xlim([-0.1,1.1])\n",
    "    plt.ylim([-0.1,1.1])\n",
    "    plt.xlabel(\"$x_1$\")\n",
    "    plt.ylabel(\"$x_2$\")\n",
    "    plt.legend()\n",
    "    plt.tight_layout()\n",
    "    plt.show()"
   ]
  },
  {
   "cell_type": "code",
   "execution_count": null,
   "metadata": {},
   "outputs": [],
   "source": [
    "# OR: \n",
    "slp_or = SLP()\n",
    "### TODO ###\n",
    "slp_or.set_weights(torch.tensor([0,0]))\n",
    "slp_or.set_bias(0.0)"
   ]
  },
  {
   "cell_type": "code",
   "execution_count": null,
   "metadata": {},
   "outputs": [],
   "source": [
    "test_slp(slp_or, torch.tensor([[0,0], [0,1], [1,0], [1,1]]), torch.tensor([0,1,1,1]))"
   ]
  },
  {
   "cell_type": "code",
   "execution_count": null,
   "metadata": {},
   "outputs": [],
   "source": [
    "# AND: \n",
    "slp_and = SLP()\n",
    "### TODO ###\n",
    "slp_and.set_weights(torch.tensor([0,0]))\n",
    "slp_and.set_bias(0.0)"
   ]
  },
  {
   "cell_type": "code",
   "execution_count": null,
   "metadata": {},
   "outputs": [],
   "source": [
    "test_slp(slp_and, torch.tensor([[0,0], [0,1], [1,0], [1,1]]), torch.tensor([0,0,0,1]))"
   ]
  },
  {
   "cell_type": "code",
   "execution_count": null,
   "metadata": {},
   "outputs": [],
   "source": [
    "# XOR: \n",
    "slp_xor = SLP()\n",
    "### TODO ###\n",
    "slp_xor.set_weights(torch.tensor([0,0]))\n",
    "slp_xor.set_bias(0.0)"
   ]
  },
  {
   "cell_type": "code",
   "execution_count": null,
   "metadata": {},
   "outputs": [],
   "source": [
    "test_slp(slp_xor, torch.tensor([[0,0], [0,1], [1,0], [1,1]]), torch.tensor([0,1,1,0]))"
   ]
  }
 ],
 "metadata": {
  "kernelspec": {
   "display_name": "Python 3 (ipykernel)",
   "language": "python",
   "name": "python3"
  },
  "language_info": {
   "codemirror_mode": {
    "name": "ipython",
    "version": 3
   },
   "file_extension": ".py",
   "mimetype": "text/x-python",
   "name": "python",
   "nbconvert_exporter": "python",
   "pygments_lexer": "ipython3",
   "version": "3.10.10"
  },
  "varInspector": {
   "cols": {
    "lenName": 16,
    "lenType": 16,
    "lenVar": 40
   },
   "kernels_config": {
    "python": {
     "delete_cmd_postfix": "",
     "delete_cmd_prefix": "del ",
     "library": "var_list.py",
     "varRefreshCmd": "print(var_dic_list())"
    },
    "r": {
     "delete_cmd_postfix": ") ",
     "delete_cmd_prefix": "rm(",
     "library": "var_list.r",
     "varRefreshCmd": "cat(var_dic_list()) "
    }
   },
   "types_to_exclude": [
    "module",
    "function",
    "builtin_function_or_method",
    "instance",
    "_Feature"
   ],
   "window_display": false
  }
 },
 "nbformat": 4,
 "nbformat_minor": 4
}
