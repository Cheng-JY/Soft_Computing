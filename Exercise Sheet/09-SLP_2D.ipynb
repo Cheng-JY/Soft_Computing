{
 "cells": [
  {
   "cell_type": "markdown",
   "metadata": {},
   "source": [
    "# Single Layer Perceptron für 2D data"
   ]
  },
  {
   "cell_type": "code",
   "execution_count": 2,
   "metadata": {
    "jupyter": {
     "outputs_hidden": false
    }
   },
   "outputs": [],
   "source": [
    "import torch\n",
    "import matplotlib.pyplot as plt\n",
    "import torch.nn as nn\n",
    "from sklearn import datasets"
   ]
  },
  {
   "cell_type": "markdown",
   "metadata": {},
   "source": [
    "## Trainingsaufgabe definieren"
   ]
  },
  {
   "cell_type": "markdown",
   "metadata": {},
   "source": [
    "Erstellen Sie einen Datensatz mit der Sklearn datenset Bibliothek\n",
    "   Mit 'make_blobs' können Sie zwei Daten-Cluster erzeugen; \n",
    "   wählen Sie eine geeignete cluster_std, um die Cluster mit einem Single Layer Perceptron linear trennen zu können"
   ]
  },
  {
   "cell_type": "code",
   "execution_count": 4,
   "metadata": {},
   "outputs": [],
   "source": [
    "X, y = datasets.make_blobs()"
   ]
  },
  {
   "cell_type": "code",
   "execution_count": 5,
   "metadata": {},
   "outputs": [
    {
     "data": {
      "image/png": "[encoded data removed]",
      "text/plain": [
       "<Figure size 640x480 with 1 Axes>"
      ]
     },
     "metadata": {},
     "output_type": "display_data"
    }
   ],
   "source": [
    "def scatter_plot():\n",
    "    plt.scatter(X[y==0, 0], X[y==0, 1])\n",
    "    plt.scatter(X[y==1, 0], X[y==1, 1])\n",
    "    \n",
    "scatter_plot() "
   ]
  },
  {
   "cell_type": "markdown",
   "metadata": {},
   "source": [
    "## Was brauchen wir, um eine SLP zu modellieren?\n",
    "\n",
    "- Instanzen (x_data) und Ziele (y_data) \n",
    "- 2 Gewichte (w)\n",
    "- 1 Bias(b)\n",
    "- Netzeingangsfunktion\n",
    "- Aktivierungsfunktion\n",
    "- Fehler- oder Lossfunktion"
   ]
  },
  {
   "cell_type": "markdown",
   "metadata": {},
   "source": [
    "Erstellen Sie einen SLP-Klassifikator mit Hilfe der Pytorch-Bibliothek\n",
    "\n",
    "* wenn Sie nicht die 'parameters()'-Funktion von Torch verwenden, stellen Sie sicher, dass Sie die automatische Differenzierung mit 'EXAMPLETENSOR.requires_grad = True' aktivieren"
   ]
  },
  {
   "cell_type": "code",
   "execution_count": 18,
   "metadata": {},
   "outputs": [],
   "source": [
    "#Als Vorschlag:\n",
    "class SLP(nn.Module):\n",
    "    def __init__(self, input_size, output_size):\n",
    "        super(SLP, self).__init__()\n",
    "        \n",
    "        self.activation_function = nn.ReLU()\n",
    "        \n",
    "        self.linear1 = nn.Linear(input_size, 3)\n",
    "        self.linear2 = nn.Linear(3, 2)\n",
    "        self.linear3 = nn.Linear(2, output_size)\n",
    "\n",
    "    def forward(self, x): #wie Wert propagieren\n",
    "        \n",
    "        out_layer_1 = self.activation_function(self.linear1(x))\n",
    "        out_layer_2 = self.activation_function(self.linear2(out_layer_1))\n",
    "        out_layer_3 = self.activation_function(self.linear3(out_layer_2))\n",
    "        \n",
    "        return out_layer_3\n",
    "        \n",
    "    def predict(self, x):           #Klassifizierung zweier Klassen\n",
    "        pass"
   ]
  },
  {
   "cell_type": "code",
   "execution_count": 23,
   "metadata": {},
   "outputs": [
    {
     "data": {
      "text/plain": [
       "tensor([[0.1405, 0.3472],\n",
       "        [0.1405, 0.3472],\n",
       "        [0.1405, 0.3472],\n",
       "        [0.1405, 0.3472],\n",
       "        [0.1405, 0.3472],\n",
       "        [0.1405, 0.3472],\n",
       "        [0.1405, 0.3472],\n",
       "        [0.1405, 0.3472],\n",
       "        [0.1385, 0.3498],\n",
       "        [0.1405, 0.3472],\n",
       "        [0.1405, 0.3472],\n",
       "        [0.1405, 0.3472],\n",
       "        [0.1405, 0.3472],\n",
       "        [0.1405, 0.3472],\n",
       "        [0.1405, 0.3472],\n",
       "        [0.1388, 0.3494],\n",
       "        [0.1405, 0.3472],\n",
       "        [0.1405, 0.3472],\n",
       "        [0.1405, 0.3472],\n",
       "        [0.1405, 0.3472],\n",
       "        [0.1405, 0.3472],\n",
       "        [0.1405, 0.3472],\n",
       "        [0.1405, 0.3472],\n",
       "        [0.1405, 0.3472],\n",
       "        [0.1391, 0.3491],\n",
       "        [0.1405, 0.3472],\n",
       "        [0.1395, 0.3485],\n",
       "        [0.1405, 0.3472],\n",
       "        [0.1405, 0.3472],\n",
       "        [0.1405, 0.3472],\n",
       "        [0.1405, 0.3472],\n",
       "        [0.1405, 0.3472],\n",
       "        [0.1405, 0.3472],\n",
       "        [0.1405, 0.3472],\n",
       "        [0.1405, 0.3472],\n",
       "        [0.1405, 0.3472],\n",
       "        [0.1405, 0.3472],\n",
       "        [0.1405, 0.3472],\n",
       "        [0.1405, 0.3472],\n",
       "        [0.1405, 0.3472],\n",
       "        [0.1405, 0.3472],\n",
       "        [0.1405, 0.3472],\n",
       "        [0.1405, 0.3472],\n",
       "        [0.1405, 0.3472],\n",
       "        [0.1405, 0.3472],\n",
       "        [0.1386, 0.3497],\n",
       "        [0.1405, 0.3472],\n",
       "        [0.1405, 0.3472],\n",
       "        [0.1405, 0.3472],\n",
       "        [0.1405, 0.3472],\n",
       "        [0.1405, 0.3472],\n",
       "        [0.1405, 0.3472],\n",
       "        [0.1405, 0.3472],\n",
       "        [0.1405, 0.3472],\n",
       "        [0.1405, 0.3472],\n",
       "        [0.1405, 0.3472],\n",
       "        [0.1405, 0.3472],\n",
       "        [0.1405, 0.3472],\n",
       "        [0.1405, 0.3472],\n",
       "        [0.1405, 0.3472],\n",
       "        [0.1405, 0.3472],\n",
       "        [0.1405, 0.3472],\n",
       "        [0.1405, 0.3472],\n",
       "        [0.1405, 0.3472],\n",
       "        [0.1405, 0.3472],\n",
       "        [0.1405, 0.3472],\n",
       "        [0.1389, 0.3493],\n",
       "        [0.1405, 0.3472],\n",
       "        [0.1405, 0.3472],\n",
       "        [0.1405, 0.3472],\n",
       "        [0.1405, 0.3472],\n",
       "        [0.1405, 0.3472],\n",
       "        [0.1405, 0.3472],\n",
       "        [0.1405, 0.3472],\n",
       "        [0.1405, 0.3472],\n",
       "        [0.1405, 0.3472],\n",
       "        [0.1405, 0.3472],\n",
       "        [0.1405, 0.3472],\n",
       "        [0.1405, 0.3472],\n",
       "        [0.1405, 0.3472],\n",
       "        [0.1405, 0.3472],\n",
       "        [0.1405, 0.3472],\n",
       "        [0.1405, 0.3472],\n",
       "        [0.1405, 0.3472],\n",
       "        [0.1405, 0.3472],\n",
       "        [0.1405, 0.3472],\n",
       "        [0.1405, 0.3472],\n",
       "        [0.1405, 0.3472],\n",
       "        [0.1405, 0.3472],\n",
       "        [0.1405, 0.3472],\n",
       "        [0.1405, 0.3472],\n",
       "        [0.1405, 0.3472],\n",
       "        [0.1405, 0.3472],\n",
       "        [0.1405, 0.3472],\n",
       "        [0.1405, 0.3472],\n",
       "        [0.1387, 0.3495],\n",
       "        [0.1405, 0.3472],\n",
       "        [0.1405, 0.3472],\n",
       "        [0.1405, 0.3472],\n",
       "        [0.1405, 0.3472]], grad_fn=<ReluBackward0>)"
      ]
     },
     "execution_count": 23,
     "metadata": {},
     "output_type": "execute_result"
    }
   ],
   "source": [
    "slpModel = SLP(2,2)\n",
    "torch_data = torch.tensor(X).float()\n",
    "slpModel(torch_data)"
   ]
  },
  {
   "cell_type": "code",
   "execution_count": 33,
   "metadata": {
    "jupyter": {
     "source_hidden": true
    }
   },
   "outputs": [
    {
     "ename": "ValueError",
     "evalue": "too many values to unpack (expected 2)",
     "output_type": "error",
     "traceback": [
      "\u001b[0;31m---------------------------------------------------------------------------\u001b[0m",
      "\u001b[0;31mValueError\u001b[0m                                Traceback (most recent call last)",
      "Cell \u001b[0;32mIn[33], line 5\u001b[0m\n\u001b[1;32m      1\u001b[0m torch\u001b[38;5;241m.\u001b[39mmanual_seed(\u001b[38;5;241m2\u001b[39m)     \u001b[38;5;66;03m#to generate reproducible outputs\u001b[39;00m\n\u001b[1;32m      3\u001b[0m model \u001b[38;5;241m=\u001b[39m SLP(input_size\u001b[38;5;241m=\u001b[39mX\u001b[38;5;241m.\u001b[39mshape[\u001b[38;5;241m1\u001b[39m], output_size\u001b[38;5;241m=\u001b[39m\u001b[38;5;241m3\u001b[39m) \u001b[38;5;66;03m# model = SLP(input_size=2, output_size=1)\u001b[39;00m\n\u001b[0;32m----> 5\u001b[0m [w, b] \u001b[38;5;241m=\u001b[39m model\u001b[38;5;241m.\u001b[39mparameters()\n\u001b[1;32m      6\u001b[0m w1, w2 \u001b[38;5;241m=\u001b[39m w\u001b[38;5;241m.\u001b[39mview(\u001b[38;5;241m2\u001b[39m)\n\u001b[1;32m      8\u001b[0m \u001b[38;5;28mprint\u001b[39m(\u001b[38;5;28mlist\u001b[39m(model\u001b[38;5;241m.\u001b[39mparameters()))\n",
      "\u001b[0;31mValueError\u001b[0m: too many values to unpack (expected 2)"
     ]
    }
   ],
   "source": [
    "torch.manual_seed(2)     #to generate reproducible outputs\n",
    "\n",
    "model = SLP(input_size=X.shape[1], output_size=3) # model = SLP(input_size=2, output_size=1)\n",
    "\n",
    "[w, b] = model.parameters()\n",
    "w1, w2 = w.view(2)\n",
    "\n",
    "print(list(model.parameters()))\n",
    "\n",
    "\n",
    "def get_params():\n",
    "    return (w1.item(), w2.item(), b[0].item())\n"
   ]
  },
  {
   "cell_type": "code",
   "execution_count": null,
   "metadata": {
    "jupyter": {
     "outputs_hidden": false
    }
   },
   "outputs": [],
   "source": [
    "#Als Vorschlag:\n",
    "def plot_fit(title):\n",
    "    plt.title=(title)\n",
    "    w1, w2, b1 = get_params()\n",
    "    x1 = torch.tensor([-2, 2])\n",
    "    x2 = (w1*x1 + b1)/(-w2)\n",
    "    plt.plot(x1, x2, 'r')\n",
    "    scatter_plot()\n",
    "    plt.show()"
   ]
  },
  {
   "cell_type": "code",
   "execution_count": null,
   "metadata": {
    "jupyter": {
     "outputs_hidden": false
    }
   },
   "outputs": [],
   "source": [
    "plot_fit('Initial Model')"
   ]
  },
  {
   "cell_type": "markdown",
   "metadata": {},
   "source": []
  },
  {
   "cell_type": "markdown",
   "metadata": {},
   "source": [
    "## Das Modell trainieren\n"
   ]
  },
  {
   "cell_type": "markdown",
   "metadata": {},
   "source": [
    "Verwenden Sie die Pytorch-Bibliothek \n",
    "* wählen Sie eine geeignete Loss/Fehler-Funktion\n",
    "* wählen Sie einen geeigneten Optimierer\n"
   ]
  },
  {
   "cell_type": "code",
   "execution_count": 47,
   "metadata": {
    "jupyter": {
     "outputs_hidden": false
    }
   },
   "outputs": [],
   "source": [
    "#Als Vorschlag\n",
    "criterion = nn.CrossEntropyLoss()\n",
    "optimizer = torch.optim.SGD(model.parameters(), lr = 0.1)"
   ]
  },
  {
   "cell_type": "code",
   "execution_count": 48,
   "metadata": {
    "jupyter": {
     "outputs_hidden": false
    }
   },
   "outputs": [
    {
     "name": "stdout",
     "output_type": "stream",
     "text": [
      "epoch: 0 loss: 1.0985221862792969\n",
      "epoch: 1 loss: 1.0985220670700073\n",
      "epoch: 2 loss: 1.0985217094421387\n",
      "epoch: 3 loss: 1.0985217094421387\n",
      "epoch: 4 loss: 1.0985214710235596\n",
      "epoch: 5 loss: 1.0985212326049805\n",
      "epoch: 6 loss: 1.098521113395691\n",
      "epoch: 7 loss: 1.0985207557678223\n",
      "epoch: 8 loss: 1.0985206365585327\n",
      "epoch: 9 loss: 1.0985205173492432\n",
      "epoch: 10 loss: 1.0985203981399536\n",
      "epoch: 11 loss: 1.0985199213027954\n",
      "epoch: 12 loss: 1.0985199213027954\n",
      "epoch: 13 loss: 1.0985198020935059\n",
      "epoch: 14 loss: 1.0985198020935059\n",
      "epoch: 15 loss: 1.0985194444656372\n",
      "epoch: 16 loss: 1.0985193252563477\n",
      "epoch: 17 loss: 1.098519206047058\n",
      "epoch: 18 loss: 1.0985190868377686\n",
      "epoch: 19 loss: 1.0985188484191895\n",
      "epoch: 20 loss: 1.0985187292099\n",
      "epoch: 21 loss: 1.0985187292099\n",
      "epoch: 22 loss: 1.0985184907913208\n",
      "epoch: 23 loss: 1.0985184907913208\n",
      "epoch: 24 loss: 1.0985182523727417\n",
      "epoch: 25 loss: 1.0985180139541626\n",
      "epoch: 26 loss: 1.0985180139541626\n",
      "epoch: 27 loss: 1.0985177755355835\n",
      "epoch: 28 loss: 1.098517656326294\n",
      "epoch: 29 loss: 1.0985177755355835\n",
      "epoch: 30 loss: 1.0985174179077148\n",
      "epoch: 31 loss: 1.0985174179077148\n",
      "epoch: 32 loss: 1.0985175371170044\n",
      "epoch: 33 loss: 1.0985172986984253\n",
      "epoch: 34 loss: 1.0985171794891357\n",
      "epoch: 35 loss: 1.0985170602798462\n",
      "epoch: 36 loss: 1.0985169410705566\n",
      "epoch: 37 loss: 1.0985169410705566\n",
      "epoch: 38 loss: 1.0985167026519775\n",
      "epoch: 39 loss: 1.098516583442688\n",
      "epoch: 40 loss: 1.0985167026519775\n",
      "epoch: 41 loss: 1.0985167026519775\n",
      "epoch: 42 loss: 1.0985163450241089\n",
      "epoch: 43 loss: 1.0985163450241089\n",
      "epoch: 44 loss: 1.0985161066055298\n",
      "epoch: 45 loss: 1.0985163450241089\n",
      "epoch: 46 loss: 1.0985159873962402\n",
      "epoch: 47 loss: 1.0985159873962402\n",
      "epoch: 48 loss: 1.0985159873962402\n",
      "epoch: 49 loss: 1.0985158681869507\n",
      "epoch: 50 loss: 1.0985157489776611\n",
      "epoch: 51 loss: 1.0985156297683716\n",
      "epoch: 52 loss: 1.0985157489776611\n",
      "epoch: 53 loss: 1.0985156297683716\n",
      "epoch: 54 loss: 1.098515510559082\n",
      "epoch: 55 loss: 1.098515272140503\n",
      "epoch: 56 loss: 1.098515272140503\n",
      "epoch: 57 loss: 1.098515272140503\n",
      "epoch: 58 loss: 1.0985151529312134\n",
      "epoch: 59 loss: 1.098515510559082\n",
      "epoch: 60 loss: 1.0985150337219238\n",
      "epoch: 61 loss: 1.0985151529312134\n",
      "epoch: 62 loss: 1.0985150337219238\n",
      "epoch: 63 loss: 1.0985150337219238\n",
      "epoch: 64 loss: 1.0985150337219238\n",
      "epoch: 65 loss: 1.0985150337219238\n",
      "epoch: 66 loss: 1.0985146760940552\n",
      "epoch: 67 loss: 1.0985149145126343\n",
      "epoch: 68 loss: 1.0985146760940552\n",
      "epoch: 69 loss: 1.0985147953033447\n",
      "epoch: 70 loss: 1.0985147953033447\n",
      "epoch: 71 loss: 1.0985145568847656\n",
      "epoch: 72 loss: 1.098514437675476\n",
      "epoch: 73 loss: 1.0985145568847656\n",
      "epoch: 74 loss: 1.098514437675476\n",
      "epoch: 75 loss: 1.0985145568847656\n",
      "epoch: 76 loss: 1.098514437675476\n",
      "epoch: 77 loss: 1.098514437675476\n",
      "epoch: 78 loss: 1.0985143184661865\n",
      "epoch: 79 loss: 1.098514199256897\n",
      "epoch: 80 loss: 1.098514199256897\n",
      "epoch: 81 loss: 1.098514199256897\n",
      "epoch: 82 loss: 1.0985140800476074\n",
      "epoch: 83 loss: 1.098514199256897\n",
      "epoch: 84 loss: 1.0985140800476074\n",
      "epoch: 85 loss: 1.0985138416290283\n",
      "epoch: 86 loss: 1.0985138416290283\n",
      "epoch: 87 loss: 1.0985140800476074\n",
      "epoch: 88 loss: 1.0985138416290283\n",
      "epoch: 89 loss: 1.0985140800476074\n",
      "epoch: 90 loss: 1.0985139608383179\n",
      "epoch: 91 loss: 1.0985139608383179\n",
      "epoch: 92 loss: 1.0985139608383179\n",
      "epoch: 93 loss: 1.0985138416290283\n",
      "epoch: 94 loss: 1.0985138416290283\n",
      "epoch: 95 loss: 1.0985138416290283\n",
      "epoch: 96 loss: 1.0985137224197388\n",
      "epoch: 97 loss: 1.0985137224197388\n",
      "epoch: 98 loss: 1.0985138416290283\n",
      "epoch: 99 loss: 1.0985138416290283\n"
     ]
    }
   ],
   "source": [
    "#Als Vorschlag\n",
    "epochs = 100\n",
    "losses = []\n",
    "\n",
    "for i in range(epochs):\n",
    "    X_full_batch = torch.tensor(X).float()\n",
    "    y_full_batch = torch.tensor(y, dtype = torch.long)\n",
    "    \n",
    "    y_pred = model(X_full_batch)\n",
    "    #Ausgabe für x_data schätzen\n",
    "    \n",
    "    loss = criterion(y_pred, y_full_batch)\n",
    "    #den Fehler zwischen Schätzung und Label berechnen\n",
    "    \n",
    "    optimizer.zero_grad()\n",
    "    loss.backward()\n",
    "    optimizer.step()\n",
    "    \n",
    "    print(\"epoch:\", i, \"loss:\", loss.item())\n",
    "    \n",
    "                     #Loss an Lossliste anhängen\n",
    "                     #Resete die Gradienten des Optimierers\n",
    "                     #Berechne die Gradienten der Modellparameter\n",
    "                     #Aktualisierung der Gewichte "
   ]
  },
  {
   "cell_type": "code",
   "execution_count": 44,
   "metadata": {},
   "outputs": [
    {
     "ename": "ValueError",
     "evalue": "x and y must have same first dimension, but have shapes (100,) and (0,)",
     "output_type": "error",
     "traceback": [
      "\u001b[0;31m---------------------------------------------------------------------------\u001b[0m",
      "\u001b[0;31mValueError\u001b[0m                                Traceback (most recent call last)",
      "Cell \u001b[0;32mIn[44], line 2\u001b[0m\n\u001b[1;32m      1\u001b[0m \u001b[38;5;66;03m#Als Vorschlag\u001b[39;00m\n\u001b[0;32m----> 2\u001b[0m \u001b[43mplt\u001b[49m\u001b[38;5;241;43m.\u001b[39;49m\u001b[43mplot\u001b[49m\u001b[43m(\u001b[49m\u001b[38;5;28;43mrange\u001b[39;49m\u001b[43m(\u001b[49m\u001b[43mepochs\u001b[49m\u001b[43m)\u001b[49m\u001b[43m,\u001b[49m\u001b[43m \u001b[49m\u001b[43mlosses\u001b[49m\u001b[43m)\u001b[49m\n\u001b[1;32m      3\u001b[0m plt\u001b[38;5;241m.\u001b[39mylabel(\u001b[38;5;124m'\u001b[39m\u001b[38;5;124mLoss\u001b[39m\u001b[38;5;124m'\u001b[39m)\n\u001b[1;32m      4\u001b[0m plt\u001b[38;5;241m.\u001b[39mxlabel(\u001b[38;5;124m'\u001b[39m\u001b[38;5;124mepoch\u001b[39m\u001b[38;5;124m'\u001b[39m)\n",
      "File \u001b[0;32m~/anaconda3/envs/softcomputing/lib/python3.10/site-packages/matplotlib/pyplot.py:2812\u001b[0m, in \u001b[0;36mplot\u001b[0;34m(scalex, scaley, data, *args, **kwargs)\u001b[0m\n\u001b[1;32m   2810\u001b[0m \u001b[38;5;129m@_copy_docstring_and_deprecators\u001b[39m(Axes\u001b[38;5;241m.\u001b[39mplot)\n\u001b[1;32m   2811\u001b[0m \u001b[38;5;28;01mdef\u001b[39;00m \u001b[38;5;21mplot\u001b[39m(\u001b[38;5;241m*\u001b[39margs, scalex\u001b[38;5;241m=\u001b[39m\u001b[38;5;28;01mTrue\u001b[39;00m, scaley\u001b[38;5;241m=\u001b[39m\u001b[38;5;28;01mTrue\u001b[39;00m, data\u001b[38;5;241m=\u001b[39m\u001b[38;5;28;01mNone\u001b[39;00m, \u001b[38;5;241m*\u001b[39m\u001b[38;5;241m*\u001b[39mkwargs):\n\u001b[0;32m-> 2812\u001b[0m     \u001b[38;5;28;01mreturn\u001b[39;00m \u001b[43mgca\u001b[49m\u001b[43m(\u001b[49m\u001b[43m)\u001b[49m\u001b[38;5;241;43m.\u001b[39;49m\u001b[43mplot\u001b[49m\u001b[43m(\u001b[49m\n\u001b[1;32m   2813\u001b[0m \u001b[43m        \u001b[49m\u001b[38;5;241;43m*\u001b[39;49m\u001b[43margs\u001b[49m\u001b[43m,\u001b[49m\u001b[43m \u001b[49m\u001b[43mscalex\u001b[49m\u001b[38;5;241;43m=\u001b[39;49m\u001b[43mscalex\u001b[49m\u001b[43m,\u001b[49m\u001b[43m \u001b[49m\u001b[43mscaley\u001b[49m\u001b[38;5;241;43m=\u001b[39;49m\u001b[43mscaley\u001b[49m\u001b[43m,\u001b[49m\n\u001b[1;32m   2814\u001b[0m \u001b[43m        \u001b[49m\u001b[38;5;241;43m*\u001b[39;49m\u001b[38;5;241;43m*\u001b[39;49m\u001b[43m(\u001b[49m\u001b[43m{\u001b[49m\u001b[38;5;124;43m\"\u001b[39;49m\u001b[38;5;124;43mdata\u001b[39;49m\u001b[38;5;124;43m\"\u001b[39;49m\u001b[43m:\u001b[49m\u001b[43m \u001b[49m\u001b[43mdata\u001b[49m\u001b[43m}\u001b[49m\u001b[43m \u001b[49m\u001b[38;5;28;43;01mif\u001b[39;49;00m\u001b[43m \u001b[49m\u001b[43mdata\u001b[49m\u001b[43m \u001b[49m\u001b[38;5;129;43;01mis\u001b[39;49;00m\u001b[43m \u001b[49m\u001b[38;5;129;43;01mnot\u001b[39;49;00m\u001b[43m \u001b[49m\u001b[38;5;28;43;01mNone\u001b[39;49;00m\u001b[43m \u001b[49m\u001b[38;5;28;43;01melse\u001b[39;49;00m\u001b[43m \u001b[49m\u001b[43m{\u001b[49m\u001b[43m}\u001b[49m\u001b[43m)\u001b[49m\u001b[43m,\u001b[49m\u001b[43m \u001b[49m\u001b[38;5;241;43m*\u001b[39;49m\u001b[38;5;241;43m*\u001b[39;49m\u001b[43mkwargs\u001b[49m\u001b[43m)\u001b[49m\n",
      "File \u001b[0;32m~/anaconda3/envs/softcomputing/lib/python3.10/site-packages/matplotlib/axes/_axes.py:1688\u001b[0m, in \u001b[0;36mAxes.plot\u001b[0;34m(self, scalex, scaley, data, *args, **kwargs)\u001b[0m\n\u001b[1;32m   1445\u001b[0m \u001b[38;5;124;03m\"\"\"\u001b[39;00m\n\u001b[1;32m   1446\u001b[0m \u001b[38;5;124;03mPlot y versus x as lines and/or markers.\u001b[39;00m\n\u001b[1;32m   1447\u001b[0m \n\u001b[0;32m   (...)\u001b[0m\n\u001b[1;32m   1685\u001b[0m \u001b[38;5;124;03m(``'green'``) or hex strings (``'#008000'``).\u001b[39;00m\n\u001b[1;32m   1686\u001b[0m \u001b[38;5;124;03m\"\"\"\u001b[39;00m\n\u001b[1;32m   1687\u001b[0m kwargs \u001b[38;5;241m=\u001b[39m cbook\u001b[38;5;241m.\u001b[39mnormalize_kwargs(kwargs, mlines\u001b[38;5;241m.\u001b[39mLine2D)\n\u001b[0;32m-> 1688\u001b[0m lines \u001b[38;5;241m=\u001b[39m [\u001b[38;5;241m*\u001b[39m\u001b[38;5;28mself\u001b[39m\u001b[38;5;241m.\u001b[39m_get_lines(\u001b[38;5;241m*\u001b[39margs, data\u001b[38;5;241m=\u001b[39mdata, \u001b[38;5;241m*\u001b[39m\u001b[38;5;241m*\u001b[39mkwargs)]\n\u001b[1;32m   1689\u001b[0m \u001b[38;5;28;01mfor\u001b[39;00m line \u001b[38;5;129;01min\u001b[39;00m lines:\n\u001b[1;32m   1690\u001b[0m     \u001b[38;5;28mself\u001b[39m\u001b[38;5;241m.\u001b[39madd_line(line)\n",
      "File \u001b[0;32m~/anaconda3/envs/softcomputing/lib/python3.10/site-packages/matplotlib/axes/_base.py:311\u001b[0m, in \u001b[0;36m_process_plot_var_args.__call__\u001b[0;34m(self, data, *args, **kwargs)\u001b[0m\n\u001b[1;32m    309\u001b[0m     this \u001b[38;5;241m+\u001b[39m\u001b[38;5;241m=\u001b[39m args[\u001b[38;5;241m0\u001b[39m],\n\u001b[1;32m    310\u001b[0m     args \u001b[38;5;241m=\u001b[39m args[\u001b[38;5;241m1\u001b[39m:]\n\u001b[0;32m--> 311\u001b[0m \u001b[38;5;28;01myield from\u001b[39;00m \u001b[38;5;28;43mself\u001b[39;49m\u001b[38;5;241;43m.\u001b[39;49m\u001b[43m_plot_args\u001b[49m\u001b[43m(\u001b[49m\n\u001b[1;32m    312\u001b[0m \u001b[43m    \u001b[49m\u001b[43mthis\u001b[49m\u001b[43m,\u001b[49m\u001b[43m \u001b[49m\u001b[43mkwargs\u001b[49m\u001b[43m,\u001b[49m\u001b[43m \u001b[49m\u001b[43mambiguous_fmt_datakey\u001b[49m\u001b[38;5;241;43m=\u001b[39;49m\u001b[43mambiguous_fmt_datakey\u001b[49m\u001b[43m)\u001b[49m\n",
      "File \u001b[0;32m~/anaconda3/envs/softcomputing/lib/python3.10/site-packages/matplotlib/axes/_base.py:504\u001b[0m, in \u001b[0;36m_process_plot_var_args._plot_args\u001b[0;34m(self, tup, kwargs, return_kwargs, ambiguous_fmt_datakey)\u001b[0m\n\u001b[1;32m    501\u001b[0m     \u001b[38;5;28mself\u001b[39m\u001b[38;5;241m.\u001b[39maxes\u001b[38;5;241m.\u001b[39myaxis\u001b[38;5;241m.\u001b[39mupdate_units(y)\n\u001b[1;32m    503\u001b[0m \u001b[38;5;28;01mif\u001b[39;00m x\u001b[38;5;241m.\u001b[39mshape[\u001b[38;5;241m0\u001b[39m] \u001b[38;5;241m!=\u001b[39m y\u001b[38;5;241m.\u001b[39mshape[\u001b[38;5;241m0\u001b[39m]:\n\u001b[0;32m--> 504\u001b[0m     \u001b[38;5;28;01mraise\u001b[39;00m \u001b[38;5;167;01mValueError\u001b[39;00m(\u001b[38;5;124mf\u001b[39m\u001b[38;5;124m\"\u001b[39m\u001b[38;5;124mx and y must have same first dimension, but \u001b[39m\u001b[38;5;124m\"\u001b[39m\n\u001b[1;32m    505\u001b[0m                      \u001b[38;5;124mf\u001b[39m\u001b[38;5;124m\"\u001b[39m\u001b[38;5;124mhave shapes \u001b[39m\u001b[38;5;132;01m{\u001b[39;00mx\u001b[38;5;241m.\u001b[39mshape\u001b[38;5;132;01m}\u001b[39;00m\u001b[38;5;124m and \u001b[39m\u001b[38;5;132;01m{\u001b[39;00my\u001b[38;5;241m.\u001b[39mshape\u001b[38;5;132;01m}\u001b[39;00m\u001b[38;5;124m\"\u001b[39m)\n\u001b[1;32m    506\u001b[0m \u001b[38;5;28;01mif\u001b[39;00m x\u001b[38;5;241m.\u001b[39mndim \u001b[38;5;241m>\u001b[39m \u001b[38;5;241m2\u001b[39m \u001b[38;5;129;01mor\u001b[39;00m y\u001b[38;5;241m.\u001b[39mndim \u001b[38;5;241m>\u001b[39m \u001b[38;5;241m2\u001b[39m:\n\u001b[1;32m    507\u001b[0m     \u001b[38;5;28;01mraise\u001b[39;00m \u001b[38;5;167;01mValueError\u001b[39;00m(\u001b[38;5;124mf\u001b[39m\u001b[38;5;124m\"\u001b[39m\u001b[38;5;124mx and y can be no greater than 2D, but have \u001b[39m\u001b[38;5;124m\"\u001b[39m\n\u001b[1;32m    508\u001b[0m                      \u001b[38;5;124mf\u001b[39m\u001b[38;5;124m\"\u001b[39m\u001b[38;5;124mshapes \u001b[39m\u001b[38;5;132;01m{\u001b[39;00mx\u001b[38;5;241m.\u001b[39mshape\u001b[38;5;132;01m}\u001b[39;00m\u001b[38;5;124m and \u001b[39m\u001b[38;5;132;01m{\u001b[39;00my\u001b[38;5;241m.\u001b[39mshape\u001b[38;5;132;01m}\u001b[39;00m\u001b[38;5;124m\"\u001b[39m)\n",
      "\u001b[0;31mValueError\u001b[0m: x and y must have same first dimension, but have shapes (100,) and (0,)"
     ]
    },
    {
     "data": {
      "image/png": "[encoded data removed]",
      "text/plain": [
       "<Figure size 640x480 with 1 Axes>"
      ]
     },
     "metadata": {},
     "output_type": "display_data"
    }
   ],
   "source": [
    "#Als Vorschlag\n",
    "plt.plot(range(epochs), losses)\n",
    "plt.ylabel('Loss')\n",
    "plt.xlabel('epoch')\n",
    "plt.grid()"
   ]
  },
  {
   "cell_type": "code",
   "execution_count": null,
   "metadata": {},
   "outputs": [],
   "source": [
    "plot_fit(\"Trained Model\")"
   ]
  },
  {
   "cell_type": "markdown",
   "metadata": {},
   "source": [
    "## Testen Sie das Modell"
   ]
  },
  {
   "cell_type": "markdown",
   "metadata": {},
   "source": [
    "* zwei zusätzliche Punkte generieren und das Modell damit testen\n",
    "* zeichnen Sie diese Punkte in die Grafik ein"
   ]
  },
  {
   "cell_type": "code",
   "execution_count": null,
   "metadata": {},
   "outputs": [],
   "source": [
    "#Als Vorschlag\n",
    "\n",
    "\n",
    "point1 = \n",
    "point2 =\n",
    "plt.plot(point1[0], point1[1], 'gx')\n",
    "plt.plot(point2[0], point2[1], 'mx')\n",
    "plot_fit(\"Trained Model\")\n",
    "print(\"Green point positive probability = {}\".format() \n",
    "print(\"Purple point positive probability = {}\".format() \n",
    "print(\"Green point belongs in class {}\".format() \n",
    "print(\"Pruple point belongs in class = {}\".format() "
   ]
  },
  {
   "cell_type": "code",
   "execution_count": null,
   "metadata": {},
   "outputs": [],
   "source": []
  },
  {
   "cell_type": "code",
   "execution_count": null,
   "metadata": {},
   "outputs": [],
   "source": []
  },
  {
   "cell_type": "code",
   "execution_count": null,
   "metadata": {},
   "outputs": [],
   "source": []
  }
 ],
 "metadata": {
  "kernelspec": {
   "display_name": "Python 3 (ipykernel)",
   "language": "python",
   "name": "python3"
  },
  "language_info": {
   "codemirror_mode": {
    "name": "ipython",
    "version": 3
   },
   "file_extension": ".py",
   "mimetype": "text/x-python",
   "name": "python",
   "nbconvert_exporter": "python",
   "pygments_lexer": "ipython3",
   "version": "3.10.10"
  }
 },
 "nbformat": 4,
 "nbformat_minor": 4
}
