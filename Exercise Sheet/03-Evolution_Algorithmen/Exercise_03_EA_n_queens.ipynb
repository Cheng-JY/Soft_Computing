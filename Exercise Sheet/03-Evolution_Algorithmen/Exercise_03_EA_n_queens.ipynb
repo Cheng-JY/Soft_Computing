{
 "cells": [
  {
   "cell_type": "code",
   "execution_count": 1,
   "metadata": {},
   "outputs": [],
   "source": [
    "import numpy as np\n",
    "import matplotlib.pyplot as plt\n",
    "from itertools import combinations\n",
    "from IPython.display import clear_output\n",
    "import time"
   ]
  },
  {
   "cell_type": "code",
   "execution_count": 2,
   "metadata": {},
   "outputs": [],
   "source": [
    "from utils import return_board, plot_board, plot_f_pop"
   ]
  },
  {
   "cell_type": "markdown",
   "metadata": {},
   "source": [
    "# N-Damen-Optimierungsproblem\n",
    "\n",
    "Das N-Damen-Problem ist ein klassisches Optimierungsproblem, bei dem es darum geht, N Damen auf einem N x N-Schachbrett so zu platzieren, dass sich keine zwei Damen gegenseitig angreifen. Mit anderen Worten, wir wollen eine Anordnung der Damen auf dem Brett finden, bei der sich keine zwei Damen in derselben Reihe, Spalte oder Diagonale befinden. \n",
    "\n",
    "Dieses Problem kann als kombinatorisches Optimierungsproblem modelliert werden, bei dem das Ziel darin besteht, die bestmögliche Konfiguration von Königinnen auf dem Brett zu finden. Es gibt viele verschiedene Algorithmen, die zur Lösung des N-Queens-Problems verwendet werden können, darunter genetische Algorithmen, Simulated Annealing und Constraint Programming.\n",
    "\n",
    "## Binäre Darstellung des N-Queens-Problems\n",
    "\n",
    "Eine Möglichkeit, die Position der Damen auf dem Brett darzustellen, ist die Verwendung einer binären Kodierung, bei der die Position jeder Dame als binäre Zeichenkette der Länge N dargestellt wird. Im Falle eines 5 x 5 Schachbretts könnte die Position jeder Dame beispielsweise als binäre 5-Bit-Zeichenkette dargestellt werden.\n",
    "\n",
    "Eine andere Möglichkeit, die Stellung der Damen darzustellen, ist die Verwendung einer Matrix von Binärwerten. In dieser Darstellung ist die Matrix eine quadratische Matrix mit den Abmessungen N x N, und jede Zelle in der Matrix steht für ein Feld auf dem Schachbrett. Ein Wert von 1 in einer bestimmten Zelle bedeutet, dass sich eine Dame auf diesem Feld befindet, während ein Wert von 0 bedeutet, dass das Feld leer ist.\n",
    "\n",
    "Betrachten Sie zum Beispiel das folgende Array von Damenpositionen:\n",
    "\n",
    "```python\n",
    "[0, 3, 1, 4, 2]\n",
    "```\n",
    "\n",
    "- Verwenden Sie die Funktion `return_board` für die Umwandlung diese variable in eine binäre Darstellung wie am Beispiel der folgende Matrix:\n",
    "\n",
    "```python\n",
    "array([[1., 0., 0., 0., 0.],\n",
    "       [0., 0., 0., 1., 0.],\n",
    "       [0., 1., 0., 0., 0.],\n",
    "       [0., 0., 0., 0., 1.],\n",
    "       [0., 0., 1., 0., 0.]])\n",
    "```\n",
    "\n",
    ">Diese Matrix stellt eine gültige Lösung des N-Queens-Problems dar, bei der sich keine zwei Königinnen gegenseitig angreifen.\n",
    "\n",
    "- Verwenden Sie die Funktion `plot_board` , um die Position der \"Queens\" darzustellen"
   ]
  },
  {
   "cell_type": "code",
   "execution_count": 3,
   "metadata": {},
   "outputs": [
    {
     "data": {
      "image/png": "[encoded data removed]",
      "text/plain": [
       "<Figure size 500x500 with 1 Axes>"
      ]
     },
     "metadata": {},
     "output_type": "display_data"
    }
   ],
   "source": [
    "### Solution ###\n",
    "\n",
    "board_bin = return_board(np.array([0, 3, 1, 4, 2]))\n",
    "plot_board(board_bin)"
   ]
  },
  {
   "cell_type": "markdown",
   "metadata": {},
   "source": [
    "# Aufgabe: Anwendung Evolutionäre Algorithmen (EA)\n",
    "\n",
    "- Implementieren Sie folgende Funktionen (siehe Referenzen in Vorlesungsfolien), um mit Hilfe von EA das n-Damen Problem zu lösen"
   ]
  },
  {
   "cell_type": "code",
   "execution_count": 12,
   "metadata": {},
   "outputs": [
    {
     "name": "stdout",
     "output_type": "stream",
     "text": [
      "3\n"
     ]
    }
   ],
   "source": [
    "individual = np.array([0,3,1,4,2])\n",
    "fitness_s = 0\n",
    "for row, col in enumerate(individual):\n",
    "    for row_other, col_other in enumerate(individual):\n",
    "        if row_other != row:\n",
    "            if col == col_other:\n",
    "                fitness_s += 1\n",
    "            v_1 = np.abs(row - row_other)\n",
    "            v_2 = np.abs(col - col_other)\n",
    "            if v_1 == v_2:\n",
    "                fitness_s +=1\n",
    "print(fitness_s//2)\n"
   ]
  },
  {
   "cell_type": "code",
   "execution_count": 20,
   "metadata": {},
   "outputs": [],
   "source": [
    "def init(n, pop_size):\n",
    "    \"\"\" n - Dimension des n-Dame Problems\n",
    "    pop_size - Populationsgroesse \"\"\"\n",
    "    population = np.array([np.random.permutation(n) for i in range(pop_size)])\n",
    "    \n",
    "    return population\n",
    "\n",
    "def fitness(individual):\n",
    "    \"\"\"Calculates the fitness of an individual n-queens configuration.\"\"\"\n",
    "    fitness_s = 0\n",
    "    for row, col in enumerate(individual):\n",
    "        for row_other, col_other in enumerate(individual):\n",
    "            if row_other != row:\n",
    "                if col == col_other:\n",
    "                    fitness_s += 1\n",
    "                v_1 = np.abs(row - row_other)\n",
    "                v_2 = np.abs(col - col_other)\n",
    "                if v_1 == v_2:\n",
    "                    fitness_s += 1\n",
    "    return fitness_s // 2\n",
    "        \n",
    "    \n",
    "def roulette_selection(population, fitnesses, sd, num_parents):\n",
    "    \"\"\" Rouletteselektion:\n",
    "    Selects parents for recombination using roulette wheel selection.\"\"\"\n",
    "    \n",
    "    fit = 1 - (fitnesses/fitnesses.sum() + 1e-3)\n",
    "    parents = [np.random.choice(population, size=num_parents, p=fit) for _ in num_parents]\n",
    "    return parents\n",
    "    \n",
    "\n",
    "def single_point_cross_over(mother, father):\n",
    "    \"\"\"Performs single-point crossover on two parents.\n",
    "    \n",
    "    X_mother - erster Elter\n",
    "    X_father - zweiter Elter \n",
    "    \n",
    "    \"\"\"\n",
    "    child = np.array(0,len(mother))\n",
    "    coverp = np.random.randint(0,n)\n",
    "    child = np.concatenate((mother[:coverp],father[coverp:]))\n",
    "    \n",
    "    return child\n",
    "    \n",
    "\n",
    "def mutate_int(individual, sigma, m_rate, bounds):\n",
    "    \"\"\"Mutates an individual by adding a normally-distributed random number to a random gene.\"\"\"\n",
    "    mutated = np.copy(individual)\n",
    "    for i in range(len(mutated)):\n",
    "        if np.random.rand() <= m_rate:\n",
    "            mutated[i] += int(np.round(np.random.normal(0, sigma)))\n",
    "            mutated[i] = max(bounds[i][0], min(mutated[i], bounds[i][1]))\n",
    "    return mutated\n",
    "\n",
    "def reinsertion(population, offspring, f, omega):\n",
    "    \"\"\" population - Aktuelle Population\n",
    "        offspring  - Nachkommen (haengt von gamma ab)\n",
    "        f          - Fitnessfunktion\n",
    "        omega      - Wiedereinfuegerate \"\"\"\n",
    "    idx_off = np.argsort(f(offspring))\n",
    "    idx_pop = np.argsort(f(population))[::-1]\n",
    "    \n",
    "    n = np.ceil(omega * len(population))\n",
    "    \n",
    "    next_generation = np.vstack((offspring[idx_off[:n]], population[idx_pop[n:]]))\n",
    "    return next_generation\n",
    "    \n",
    "# Helper lambda-Funktion zur Berechnung der Fitness-Werten\n",
    "f = lambda population : np.asarray([fitness(individuum) for individuum in population])"
   ]
  },
  {
   "cell_type": "markdown",
   "metadata": {},
   "source": [
    "### Startparameter:"
   ]
  },
  {
   "cell_type": "code",
   "execution_count": 21,
   "metadata": {},
   "outputs": [],
   "source": [
    "n = 8\n",
    "max_generation = 100 # Abbruchkriterium\n",
    "pop_size = 100 # Populationsgroesse\n",
    "gamma = 1.0 # Generationsluecke\n",
    "omega = 0.1 # Wiedereinfuegungsrate\n",
    "sd = 1.4 # Selektionsdruck\n",
    "p_mutation = 0.02 # Mutationswahrscheinlichkeit\n",
    "m_rate = 0.8 # Mutationsrate\n",
    "sigma = 1.2 # Mutationsparameter\n",
    "\n",
    "pop = init(n, pop_size)\n",
    "f_pop = f(pop)"
   ]
  },
  {
   "cell_type": "markdown",
   "metadata": {},
   "source": [
    "## Optimierung für n-Generationen ausführen:"
   ]
  },
  {
   "cell_type": "code",
   "execution_count": 22,
   "metadata": {},
   "outputs": [
    {
     "ename": "TypeError",
     "evalue": "'int' object is not iterable",
     "output_type": "error",
     "traceback": [
      "\u001b[0;31m---------------------------------------------------------------------------\u001b[0m",
      "\u001b[0;31mTypeError\u001b[0m                                 Traceback (most recent call last)",
      "Cell \u001b[0;32mIn[22], line 6\u001b[0m\n\u001b[1;32m      1\u001b[0m plot_data \u001b[38;5;241m=\u001b[39m [] \u001b[38;5;66;03m# Initialize plot data\u001b[39;00m\n\u001b[1;32m      3\u001b[0m \u001b[38;5;28;01mfor\u001b[39;00m i \u001b[38;5;129;01min\u001b[39;00m \u001b[38;5;28mrange\u001b[39m(max_generation):\n\u001b[1;32m      4\u001b[0m     \n\u001b[1;32m      5\u001b[0m     \u001b[38;5;66;03m# Selektion\u001b[39;00m\n\u001b[0;32m----> 6\u001b[0m     parents \u001b[38;5;241m=\u001b[39m \u001b[43mroulette_selection\u001b[49m\u001b[43m(\u001b[49m\u001b[43mpop\u001b[49m\u001b[43m,\u001b[49m\u001b[43m \u001b[49m\u001b[43mf_pop\u001b[49m\u001b[43m,\u001b[49m\u001b[43m \u001b[49m\u001b[43msd\u001b[49m\u001b[43m,\u001b[49m\u001b[43m \u001b[49m\u001b[38;5;28;43mint\u001b[39;49m\u001b[43m(\u001b[49m\u001b[43mgamma\u001b[49m\u001b[43m \u001b[49m\u001b[38;5;241;43m*\u001b[39;49m\u001b[43m \u001b[49m\u001b[43mpop_size\u001b[49m\u001b[43m)\u001b[49m\u001b[43m)\u001b[49m\n\u001b[1;32m      8\u001b[0m     \u001b[38;5;66;03m# Rekombination\u001b[39;00m\n\u001b[1;32m      9\u001b[0m     offspring \u001b[38;5;241m=\u001b[39m np\u001b[38;5;241m.\u001b[39masarray([single_point_cross_over(mother, father) \n\u001b[1;32m     10\u001b[0m                             \u001b[38;5;28;01mfor\u001b[39;00m father, mother \u001b[38;5;129;01min\u001b[39;00m parents])\n",
      "Cell \u001b[0;32mIn[20], line 28\u001b[0m, in \u001b[0;36mroulette_selection\u001b[0;34m(population, fitnesses, sd, num_parents)\u001b[0m\n\u001b[1;32m     24\u001b[0m \u001b[38;5;124;03m\"\"\" Rouletteselektion:\u001b[39;00m\n\u001b[1;32m     25\u001b[0m \u001b[38;5;124;03mSelects parents for recombination using roulette wheel selection.\"\"\"\u001b[39;00m\n\u001b[1;32m     27\u001b[0m fit \u001b[38;5;241m=\u001b[39m \u001b[38;5;241m1\u001b[39m \u001b[38;5;241m-\u001b[39m (fitnesses\u001b[38;5;241m/\u001b[39mfitnesses\u001b[38;5;241m.\u001b[39msum() \u001b[38;5;241m+\u001b[39m \u001b[38;5;241m1e-3\u001b[39m)\n\u001b[0;32m---> 28\u001b[0m parents \u001b[38;5;241m=\u001b[39m [np\u001b[38;5;241m.\u001b[39mrandom\u001b[38;5;241m.\u001b[39mchoice(population, size\u001b[38;5;241m=\u001b[39mnum_parents, p\u001b[38;5;241m=\u001b[39mfit) \u001b[38;5;28;01mfor\u001b[39;00m _ \u001b[38;5;129;01min\u001b[39;00m num_parents]\n\u001b[1;32m     29\u001b[0m \u001b[38;5;28;01mreturn\u001b[39;00m parents\n",
      "\u001b[0;31mTypeError\u001b[0m: 'int' object is not iterable"
     ]
    }
   ],
   "source": [
    "plot_data = [] # Initialize plot data\n",
    "\n",
    "for i in range(max_generation):\n",
    "    \n",
    "    # Selektion\n",
    "    parents = roulette_selection(pop, f_pop, sd, int(gamma * pop_size))\n",
    "    \n",
    "    # Rekombination\n",
    "    offspring = np.asarray([single_point_cross_over(mother, father) \n",
    "                            for father, mother in parents])\n",
    "    \n",
    "    # Mutation\n",
    "    for idx, off in enumerate(offspring):\n",
    "        if np.random.rand() <= p_mutation:\n",
    "            # Mutation for ganze Zahlen\n",
    "            offspring[idx] = mutate_int(off, sigma, m_rate, [[0,n-1]]*n)\n",
    "\n",
    "    # Wiedereinfuegen\n",
    "    pop = reinsertion(pop, offspring, f, omega)\n",
    "    \n",
    "    # Plot board for best individual\n",
    "    best_idx = np.argmin(f_pop)\n",
    "    plot_board(return_board(pop[best_idx]))\n",
    "    plot_f_pop(f_pop)\n",
    "    print(f\"Generation {i + 1}: Best fitness = {f_pop[best_idx]}\")\n",
    "\n",
    "    # Update fitness und fitness-werte in Liste einfügen\n",
    "    f_pop = f(pop)\n",
    "    plot_data.append(np.min(f_pop))\n",
    "    \n",
    "    #time.sleep(0.2)\n",
    "    clear_output(wait=True)"
   ]
  },
  {
   "cell_type": "code",
   "execution_count": null,
   "metadata": {},
   "outputs": [],
   "source": [
    "# Plot fitness values\n",
    "plt.plot(plot_data)\n",
    "plt.title(\"Fitness over generations\")\n",
    "plt.xlabel(\"Generation\")\n",
    "plt.ylabel(\"Fitness\")\n",
    "plt.show()"
   ]
  },
  {
   "cell_type": "code",
   "execution_count": null,
   "metadata": {},
   "outputs": [],
   "source": []
  }
 ],
 "metadata": {
  "kernelspec": {
   "display_name": "Python 3 (ipykernel)",
   "language": "python",
   "name": "python3"
  },
  "language_info": {
   "codemirror_mode": {
    "name": "ipython",
    "version": 3
   },
   "file_extension": ".py",
   "mimetype": "text/x-python",
   "name": "python",
   "nbconvert_exporter": "python",
   "pygments_lexer": "ipython3",
   "version": "3.10.10"
  }
 },
 "nbformat": 4,
 "nbformat_minor": 4
}
