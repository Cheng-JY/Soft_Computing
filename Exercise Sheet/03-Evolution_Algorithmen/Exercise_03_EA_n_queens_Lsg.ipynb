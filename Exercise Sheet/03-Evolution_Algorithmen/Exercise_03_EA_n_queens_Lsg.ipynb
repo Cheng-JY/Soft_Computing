{
 "cells": [
  {
   "cell_type": "code",
   "execution_count": 1,
   "metadata": {},
   "outputs": [],
   "source": [
    "import numpy as np\n",
    "import matplotlib.pyplot as plt\n",
    "from itertools import combinations\n",
    "from IPython.display import clear_output\n",
    "import time"
   ]
  },
  {
   "cell_type": "code",
   "execution_count": 2,
   "metadata": {},
   "outputs": [],
   "source": [
    "from utils import return_board, plot_board, plot_f_pop"
   ]
  },
  {
   "cell_type": "markdown",
   "metadata": {},
   "source": [
    "# N-Damen-Optimierungsproblem\n",
    "\n",
    "Das N-Damen-Problem ist ein klassisches Optimierungsproblem, bei dem es darum geht, N Damen auf einem N x N-Schachbrett so zu platzieren, dass sich keine zwei Damen gegenseitig angreifen. Mit anderen Worten, wir wollen eine Anordnung der Damen auf dem Brett finden, bei der sich keine zwei Damen in derselben Reihe, Spalte oder Diagonale befinden. \n",
    "\n",
    "Dieses Problem kann als kombinatorisches Optimierungsproblem modelliert werden, bei dem das Ziel darin besteht, die bestmögliche Konfiguration von Königinnen auf dem Brett zu finden. Es gibt viele verschiedene Algorithmen, die zur Lösung des N-Queens-Problems verwendet werden können, darunter genetische Algorithmen, Simulated Annealing und Constraint Programming.\n",
    "\n",
    "## Binäre Darstellung des N-Queens-Problems\n",
    "\n",
    "Eine Möglichkeit, die Position der Damen auf dem Brett darzustellen, ist die Verwendung einer binären Kodierung, bei der die Position jeder Dame als binäre Zeichenkette der Länge N dargestellt wird. Im Falle eines 5 x 5 Schachbretts könnte die Position jeder Dame beispielsweise als binäre 5-Bit-Zeichenkette dargestellt werden.\n",
    "\n",
    "Eine andere Möglichkeit, die Stellung der Damen darzustellen, ist die Verwendung einer Matrix von Binärwerten. In dieser Darstellung ist die Matrix eine quadratische Matrix mit den Abmessungen N x N, und jede Zelle in der Matrix steht für ein Feld auf dem Schachbrett. Ein Wert von 1 in einer bestimmten Zelle bedeutet, dass sich eine Dame auf diesem Feld befindet, während ein Wert von 0 bedeutet, dass das Feld leer ist.\n",
    "\n",
    "Betrachten Sie zum Beispiel das folgende Array von Damenpositionen:\n",
    "\n",
    "```python\n",
    "[0, 3, 1, 4, 2]\n",
    "```\n",
    "\n",
    "- Verwenden Sie die Funktion `return_board` für die Umwandlung diese variable in eine binäre Darstellung wie am Beispiel der folgende Matrix:\n",
    "\n",
    "```python\n",
    "array([[1., 0., 0., 0., 0.],\n",
    "       [0., 0., 0., 1., 0.],\n",
    "       [0., 1., 0., 0., 0.],\n",
    "       [0., 0., 0., 0., 1.],\n",
    "       [0., 0., 1., 0., 0.]])\n",
    "```\n",
    "\n",
    ">Diese Matrix stellt eine gültige Lösung des N-Queens-Problems dar, bei der sich keine zwei Königinnen gegenseitig angreifen.\n",
    "\n",
    "- Verwenden Sie die Funktion `plot_board` , um die Position der \"Queens\" darzustellen"
   ]
  },
  {
   "cell_type": "code",
   "execution_count": 3,
   "metadata": {},
   "outputs": [
    {
     "data": {
      "image/png": "[encoded data removed]",
      "text/plain": [
       "<Figure size 360x360 with 1 Axes>"
      ]
     },
     "metadata": {
      "needs_background": "light"
     },
     "output_type": "display_data"
    }
   ],
   "source": [
    "### Solution ###\n",
    "\n",
    "board_bin = return_board(np.array([0, 3, 1, 4, 2]))\n",
    "plot_board(board_bin)"
   ]
  },
  {
   "cell_type": "markdown",
   "metadata": {},
   "source": [
    "# Lösung: Anwendung Evolutionäre Algorithmen (EA)\n",
    "\n",
    "- Implementieren Sie folgende Funktionen (siehe Referenzen in Vorlesungsfolien), um mit Hilfe von EA das n-Damen Problem zu lösen"
   ]
  },
  {
   "cell_type": "code",
   "execution_count": 47,
   "metadata": {},
   "outputs": [],
   "source": [
    "def init(n, pop_size):\n",
    "    \"\"\"Initializes a population of n-queens configurations.\"\"\"\n",
    "    return np.asarray([np.random.permutation(n) for _ in range(pop_size)])\n",
    "\n",
    "def fitness(individual):\n",
    "    \"\"\"Calculates the fitness of an individual n-queens configuration.\"\"\"\n",
    "    conflicts = 0\n",
    "    for i, j in combinations(range(len(individual)), 2):\n",
    "        if abs(i - j) == abs(individual[i] - individual[j]):\n",
    "            conflicts += 1\n",
    "        elif individual[i] == individual[j]:\n",
    "            conflicts += 1\n",
    "    return 1 / (conflicts + 1)\n",
    "\n",
    "\n",
    "def sd_linear(sd, ranking):\n",
    "    \"\"\" Lineares Ranking\"\"\"\n",
    "    lranks = np.asarray(2 - sd + 2* (sd-1) * (np.arange(len(ranking))[::-1]/len(ranking)))\n",
    "    # normalisieren - sum(lranks) = 1\n",
    "    return lranks/lranks.sum()\n",
    "\n",
    "def roulette_selection(pop, f_pop, sd, size):\n",
    "    \"\"\" Rouletteselektion \"\"\"\n",
    "    rank = np.argsort(f_pop)\n",
    "    idx = np.asarray([np.random.choice(len(pop), size=2, p=sd_linear(sd, rank)) for _ in range(size)])\n",
    "    return pop[idx]\n",
    "\n",
    "\n",
    "def single_point_cross_over(mother, father):\n",
    "    \"\"\"Performs single-point crossover on two parents.\n",
    "    \n",
    "    X_mother - erster Elter\n",
    "    X_father - zweiter Elter \n",
    "    \n",
    "    \"\"\"\n",
    "    idx = np.random.randint(0, len(mother))\n",
    "    child = np.concatenate((mother[:idx], father[idx:]))\n",
    "    return child\n",
    "\n",
    "def mutate_int(individual, sigma, m_rate, bounds):\n",
    "    \"\"\"Mutates an individual by adding a normally-distributed random number to a random gene.\"\"\"\n",
    "    mutated = np.copy(individual)\n",
    "    for i in range(len(mutated)):\n",
    "        if np.random.rand() <= m_rate:\n",
    "            mutated[i] += int(np.round(np.random.normal(0, sigma)))\n",
    "            mutated[i] = max(bounds[i][0], min(mutated[i], bounds[i][1]))\n",
    "    return mutated\n",
    "\n",
    "def reinsertion(population, offspring, f, omega):\n",
    "    \n",
    "    \"\"\" population - Aktuelle Population\n",
    "        offspring  - Nachkommen (haengt von gamma ab)\n",
    "        f          - Fitnessfunktion\n",
    "        omega      - Wiedereinfuegerate \"\"\"\n",
    "    \n",
    "    f_pop = f(population)\n",
    "    f_off = f(offspring)\n",
    "    pop_size = len(population)\n",
    "    num_reinserted = int(np.round(omega * pop_size))\n",
    "    idx_reinserted = np.argpartition(f_off, -num_reinserted)[-num_reinserted:]\n",
    "    new_pop = np.concatenate((population, offspring[idx_reinserted]))\n",
    "    new_f_pop = np.concatenate((f_pop, f_off[idx_reinserted]))\n",
    "    sorted_idx = np.argsort(new_f_pop)[::-1]\n",
    "    \n",
    "    return new_pop[sorted_idx][:pop_size]\n",
    "    \n",
    "f = lambda population : np.asarray([fitness(individuum) for individuum in population])"
   ]
  },
  {
   "cell_type": "markdown",
   "metadata": {},
   "source": [
    "### Startparameter:"
   ]
  },
  {
   "cell_type": "code",
   "execution_count": 53,
   "metadata": {},
   "outputs": [],
   "source": [
    "n = 8\n",
    "max_generation = 100 # Abbruchkriterium\n",
    "pop_size = 20 # Populationsgroesse\n",
    "gamma = 1.0 # Generationsluecke\n",
    "omega = 0.1 # Wiedereinfuegungsrate\n",
    "sd = 1.4 # Selektionsdruck\n",
    "p_mutation = 0.4 # Mutationswahrscheinlichkeit\n",
    "m_rate = 0.8 # Mutationsrate\n",
    "sigma = 1.2 # Mutationsparameter\n",
    "\n",
    "pop = init(n, pop_size)\n",
    "f_pop = f(pop)"
   ]
  },
  {
   "cell_type": "markdown",
   "metadata": {},
   "source": [
    "## Optimierung für n-Generationen ausführen:"
   ]
  },
  {
   "cell_type": "code",
   "execution_count": 54,
   "metadata": {},
   "outputs": [
    {
     "name": "stdout",
     "output_type": "stream",
     "text": [
      "Generation 100: Best fitness = 1.0\n"
     ]
    },
    {
     "data": {
      "image/png": "[encoded data removed]",
      "text/plain": [
       "<Figure size 576x576 with 1 Axes>"
      ]
     },
     "metadata": {
      "needs_background": "light"
     },
     "output_type": "display_data"
    },
    {
     "data": {
      "image/png": "[encoded data removed]",
      "text/plain": [
       "<Figure size 432x288 with 1 Axes>"
      ]
     },
     "metadata": {
      "needs_background": "light"
     },
     "output_type": "display_data"
    }
   ],
   "source": [
    "plot_data = [] # Initialize plot data\n",
    "\n",
    "for i in range(max_generation):\n",
    "    \n",
    "    # Selektion\n",
    "    parents = roulette_selection(pop, f_pop, sd, int(gamma * pop_size))\n",
    "    \n",
    "    # Rekombination\n",
    "    offspring = np.asarray([single_point_cross_over(mother, father) \n",
    "                            for father, mother in parents])\n",
    "    \n",
    "    # Mutation\n",
    "    for idx, off in enumerate(offspring):\n",
    "        if np.random.rand() <= p_mutation:\n",
    "            # Mutation for ganze Zahlen\n",
    "            offspring[idx] = mutate_int(off, sigma, m_rate, [[0,n-1]]*n)\n",
    "\n",
    "    # Wiedereinfuegen\n",
    "    pop = reinsertion(pop, offspring, f, omega)\n",
    "    \n",
    "    # Plot board for best individual\n",
    "    best_idx = np.argmax(f_pop)\n",
    "    print(f\"Generation {i + 1}: Best fitness = {f_pop[best_idx]}\")\n",
    "    plot_board(return_board(pop[best_idx]))\n",
    "    plot_f_pop(f_pop)\n",
    "    \n",
    "\n",
    "    # Update fitness und fitness-werte in Liste einfügen\n",
    "    f_pop = f(pop)\n",
    "    plot_data.append(np.min(f_pop))\n",
    "    \n",
    "    #time.sleep(0.2)\n",
    "    clear_output(wait=True)"
   ]
  },
  {
   "cell_type": "code",
   "execution_count": 55,
   "metadata": {},
   "outputs": [
    {
     "data": {
      "image/png": "[encoded data removed]",
      "text/plain": [
       "<Figure size 432x288 with 1 Axes>"
      ]
     },
     "metadata": {
      "needs_background": "light"
     },
     "output_type": "display_data"
    }
   ],
   "source": [
    "# Plot fitness values\n",
    "plt.plot(plot_data)\n",
    "plt.title(\"Fitness over generations\")\n",
    "plt.xlabel(\"Generation\")\n",
    "plt.ylabel(\"Fitness\")\n",
    "plt.show()"
   ]
  }
 ],
 "metadata": {
  "kernelspec": {
   "display_name": "Python 3 (ipykernel)",
   "language": "python",
   "name": "python3"
  },
  "language_info": {
   "codemirror_mode": {
    "name": "ipython",
    "version": 3
   },
   "file_extension": ".py",
   "mimetype": "text/x-python",
   "name": "python",
   "nbconvert_exporter": "python",
   "pygments_lexer": "ipython3",
   "version": "3.10.10"
  }
 },
 "nbformat": 4,
 "nbformat_minor": 4
}
